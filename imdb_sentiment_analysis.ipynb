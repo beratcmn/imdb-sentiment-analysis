{
  "cells": [
    {
      "cell_type": "code",
      "execution_count": 1,
      "metadata": {
        "colab": {
          "base_uri": "https://localhost:8080/"
        },
        "id": "hg2CN1viglWa",
        "outputId": "7709df07-e373-4f7e-a6ec-7743b07dba57"
      },
      "outputs": [
        {
          "name": "stdout",
          "output_type": "stream",
          "text": [
            "Thu Jun 29 23:34:50 2023       \n",
            "+-----------------------------------------------------------------------------+\n",
            "| NVIDIA-SMI 525.85.12    Driver Version: 525.85.12    CUDA Version: 12.0     |\n",
            "|-------------------------------+----------------------+----------------------+\n",
            "| GPU  Name        Persistence-M| Bus-Id        Disp.A | Volatile Uncorr. ECC |\n",
            "| Fan  Temp  Perf  Pwr:Usage/Cap|         Memory-Usage | GPU-Util  Compute M. |\n",
            "|                               |                      |               MIG M. |\n",
            "|===============================+======================+======================|\n",
            "|   0  Tesla T4            Off  | 00000000:00:04.0 Off |                    0 |\n",
            "| N/A   46C    P8     9W /  70W |      0MiB / 15360MiB |      0%      Default |\n",
            "|                               |                      |                  N/A |\n",
            "+-------------------------------+----------------------+----------------------+\n",
            "                                                                               \n",
            "+-----------------------------------------------------------------------------+\n",
            "| Processes:                                                                  |\n",
            "|  GPU   GI   CI        PID   Type   Process name                  GPU Memory |\n",
            "|        ID   ID                                                   Usage      |\n",
            "|=============================================================================|\n",
            "|  No running processes found                                                 |\n",
            "+-----------------------------------------------------------------------------+\n"
          ]
        }
      ],
      "source": [
        "!nvidia-smi"
      ]
    },
    {
      "cell_type": "code",
      "execution_count": 10,
      "metadata": {
        "colab": {
          "base_uri": "https://localhost:8080/"
        },
        "id": "ySGe0CYvhoWz",
        "outputId": "4a3787a1-7458-4c48-b6de-bf11190f2c70"
      },
      "outputs": [
        {
          "name": "stdout",
          "output_type": "stream",
          "text": [
            "--2023-06-29 23:41:23--  https://transfer.sh/3K5kSPhAmc/IMDB%20Dataset.csv\n",
            "Resolving transfer.sh (transfer.sh)... 144.76.136.153, 2a01:4f8:200:1097::2\n",
            "Connecting to transfer.sh (transfer.sh)|144.76.136.153|:443... connected.\n",
            "HTTP request sent, awaiting response... 200 OK\n",
            "Length: 66212309 (63M) [text/csv]\n",
            "Saving to: ‘./data/IMDB_Dataset.csv’\n",
            "\n",
            "./data/IMDB_Dataset 100%[===================>]  63.14M  14.3MB/s    in 5.8s    \n",
            "\n",
            "2023-06-29 23:41:30 (10.8 MB/s) - ‘./data/IMDB_Dataset.csv’ saved [66212309/66212309]\n",
            "\n"
          ]
        }
      ],
      "source": [
        "!mkdir data\n",
        "!wget https://transfer.sh/3K5kSPhAmc/IMDB%20Dataset.csv -O ./data/IMDB_Dataset.csv"
      ]
    },
    {
      "cell_type": "code",
      "execution_count": 11,
      "metadata": {
        "id": "yaUA9-f6JUkq"
      },
      "outputs": [],
      "source": [
        "import tensorflow as tf\n",
        "import pandas as pd\n",
        "import numpy as np"
      ]
    },
    {
      "attachments": {},
      "cell_type": "markdown",
      "metadata": {
        "id": "XNkV9eXJNqvL"
      },
      "source": [
        "### Loading the data"
      ]
    },
    {
      "cell_type": "code",
      "execution_count": 12,
      "metadata": {
        "id": "677uALI-MpHf"
      },
      "outputs": [],
      "source": [
        "data = pd.read_csv(\"./data/IMDB_Dataset.csv\")"
      ]
    },
    {
      "cell_type": "code",
      "execution_count": 13,
      "metadata": {
        "colab": {
          "base_uri": "https://localhost:8080/",
          "height": 727
        },
        "id": "1W0PYpyJM0RT",
        "outputId": "0644ae3a-c4ee-4cb5-873f-c44a61c0ef4f"
      },
      "outputs": [
        {
          "data": {
            "text/html": [
              "\n",
              "  <div id=\"df-02732fa0-5c55-479b-b576-a98d4a6fb6c4\">\n",
              "    <div class=\"colab-df-container\">\n",
              "      <div>\n",
              "<style scoped>\n",
              "    .dataframe tbody tr th:only-of-type {\n",
              "        vertical-align: middle;\n",
              "    }\n",
              "\n",
              "    .dataframe tbody tr th {\n",
              "        vertical-align: top;\n",
              "    }\n",
              "\n",
              "    .dataframe thead th {\n",
              "        text-align: right;\n",
              "    }\n",
              "</style>\n",
              "<table border=\"1\" class=\"dataframe\">\n",
              "  <thead>\n",
              "    <tr style=\"text-align: right;\">\n",
              "      <th></th>\n",
              "      <th>review</th>\n",
              "      <th>sentiment</th>\n",
              "    </tr>\n",
              "  </thead>\n",
              "  <tbody>\n",
              "    <tr>\n",
              "      <th>0</th>\n",
              "      <td>One of the other reviewers has mentioned that ...</td>\n",
              "      <td>positive</td>\n",
              "    </tr>\n",
              "    <tr>\n",
              "      <th>1</th>\n",
              "      <td>A wonderful little production. &lt;br /&gt;&lt;br /&gt;The...</td>\n",
              "      <td>positive</td>\n",
              "    </tr>\n",
              "    <tr>\n",
              "      <th>2</th>\n",
              "      <td>I thought this was a wonderful way to spend ti...</td>\n",
              "      <td>positive</td>\n",
              "    </tr>\n",
              "    <tr>\n",
              "      <th>3</th>\n",
              "      <td>Basically there's a family where a little boy ...</td>\n",
              "      <td>negative</td>\n",
              "    </tr>\n",
              "    <tr>\n",
              "      <th>4</th>\n",
              "      <td>Petter Mattei's \"Love in the Time of Money\" is...</td>\n",
              "      <td>positive</td>\n",
              "    </tr>\n",
              "  </tbody>\n",
              "</table>\n",
              "</div>\n",
              "      <button class=\"colab-df-convert\" onclick=\"convertToInteractive('df-02732fa0-5c55-479b-b576-a98d4a6fb6c4')\"\n",
              "              title=\"Convert this dataframe to an interactive table.\"\n",
              "              style=\"display:none;\">\n",
              "        \n",
              "  <svg xmlns=\"http://www.w3.org/2000/svg\" height=\"24px\"viewBox=\"0 0 24 24\"\n",
              "       width=\"24px\">\n",
              "    <path d=\"M0 0h24v24H0V0z\" fill=\"none\"/>\n",
              "    <path d=\"M18.56 5.44l.94 2.06.94-2.06 2.06-.94-2.06-.94-.94-2.06-.94 2.06-2.06.94zm-11 1L8.5 8.5l.94-2.06 2.06-.94-2.06-.94L8.5 2.5l-.94 2.06-2.06.94zm10 10l.94 2.06.94-2.06 2.06-.94-2.06-.94-.94-2.06-.94 2.06-2.06.94z\"/><path d=\"M17.41 7.96l-1.37-1.37c-.4-.4-.92-.59-1.43-.59-.52 0-1.04.2-1.43.59L10.3 9.45l-7.72 7.72c-.78.78-.78 2.05 0 2.83L4 21.41c.39.39.9.59 1.41.59.51 0 1.02-.2 1.41-.59l7.78-7.78 2.81-2.81c.8-.78.8-2.07 0-2.86zM5.41 20L4 18.59l7.72-7.72 1.47 1.35L5.41 20z\"/>\n",
              "  </svg>\n",
              "      </button>\n",
              "      \n",
              "  <style>\n",
              "    .colab-df-container {\n",
              "      display:flex;\n",
              "      flex-wrap:wrap;\n",
              "      gap: 12px;\n",
              "    }\n",
              "\n",
              "    .colab-df-convert {\n",
              "      background-color: #E8F0FE;\n",
              "      border: none;\n",
              "      border-radius: 50%;\n",
              "      cursor: pointer;\n",
              "      display: none;\n",
              "      fill: #1967D2;\n",
              "      height: 32px;\n",
              "      padding: 0 0 0 0;\n",
              "      width: 32px;\n",
              "    }\n",
              "\n",
              "    .colab-df-convert:hover {\n",
              "      background-color: #E2EBFA;\n",
              "      box-shadow: 0px 1px 2px rgba(60, 64, 67, 0.3), 0px 1px 3px 1px rgba(60, 64, 67, 0.15);\n",
              "      fill: #174EA6;\n",
              "    }\n",
              "\n",
              "    [theme=dark] .colab-df-convert {\n",
              "      background-color: #3B4455;\n",
              "      fill: #D2E3FC;\n",
              "    }\n",
              "\n",
              "    [theme=dark] .colab-df-convert:hover {\n",
              "      background-color: #434B5C;\n",
              "      box-shadow: 0px 1px 3px 1px rgba(0, 0, 0, 0.15);\n",
              "      filter: drop-shadow(0px 1px 2px rgba(0, 0, 0, 0.3));\n",
              "      fill: #FFFFFF;\n",
              "    }\n",
              "  </style>\n",
              "\n",
              "      <script>\n",
              "        const buttonEl =\n",
              "          document.querySelector('#df-02732fa0-5c55-479b-b576-a98d4a6fb6c4 button.colab-df-convert');\n",
              "        buttonEl.style.display =\n",
              "          google.colab.kernel.accessAllowed ? 'block' : 'none';\n",
              "\n",
              "        async function convertToInteractive(key) {\n",
              "          const element = document.querySelector('#df-02732fa0-5c55-479b-b576-a98d4a6fb6c4');\n",
              "          const dataTable =\n",
              "            await google.colab.kernel.invokeFunction('convertToInteractive',\n",
              "                                                     [key], {});\n",
              "          if (!dataTable) return;\n",
              "\n",
              "          const docLinkHtml = 'Like what you see? Visit the ' +\n",
              "            '<a target=\"_blank\" href=https://colab.research.google.com/notebooks/data_table.ipynb>data table notebook</a>'\n",
              "            + ' to learn more about interactive tables.';\n",
              "          element.innerHTML = '';\n",
              "          dataTable['output_type'] = 'display_data';\n",
              "          await google.colab.output.renderOutput(dataTable, element);\n",
              "          const docLink = document.createElement('div');\n",
              "          docLink.innerHTML = docLinkHtml;\n",
              "          element.appendChild(docLink);\n",
              "        }\n",
              "      </script>\n",
              "    </div>\n",
              "  </div>\n",
              "  "
            ],
            "text/plain": [
              "                                              review sentiment\n",
              "0  One of the other reviewers has mentioned that ...  positive\n",
              "1  A wonderful little production. <br /><br />The...  positive\n",
              "2  I thought this was a wonderful way to spend ti...  positive\n",
              "3  Basically there's a family where a little boy ...  negative\n",
              "4  Petter Mattei's \"Love in the Time of Money\" is...  positive"
            ]
          },
          "execution_count": 13,
          "metadata": {},
          "output_type": "execute_result"
        }
      ],
      "source": [
        "data.head()"
      ]
    },
    {
      "attachments": {},
      "cell_type": "markdown",
      "metadata": {
        "id": "xx6NyRWPNs8S"
      },
      "source": [
        "#### Splitting test & train"
      ]
    },
    {
      "cell_type": "code",
      "execution_count": 14,
      "metadata": {
        "id": "6gkoOgwtNpSb"
      },
      "outputs": [],
      "source": [
        "data = data.sample(frac=1, random_state=42)"
      ]
    },
    {
      "cell_type": "code",
      "execution_count": 15,
      "metadata": {
        "id": "uaUm6cxXNwrh"
      },
      "outputs": [],
      "source": [
        "train_proportion = 0.8"
      ]
    },
    {
      "cell_type": "code",
      "execution_count": 16,
      "metadata": {
        "id": "uDZ5-ywcNzDP"
      },
      "outputs": [],
      "source": [
        "train_rows = int(train_proportion * len(data))\n",
        "test_rows = len(data) - train_rows"
      ]
    },
    {
      "cell_type": "code",
      "execution_count": 17,
      "metadata": {
        "id": "QCFWWFLMN040"
      },
      "outputs": [],
      "source": [
        "train_data = data[:train_rows]\n",
        "test_data = data[train_rows:]"
      ]
    },
    {
      "cell_type": "code",
      "execution_count": 18,
      "metadata": {
        "colab": {
          "base_uri": "https://localhost:8080/",
          "height": 793
        },
        "id": "fGV92TDDN1y1",
        "outputId": "ebf0efb3-3809-4bc9-fa25-984191b2caa8"
      },
      "outputs": [
        {
          "data": {
            "text/html": [
              "\n",
              "  <div id=\"df-ec7a4519-af57-4d97-ab4e-fdbc0379703f\">\n",
              "    <div class=\"colab-df-container\">\n",
              "      <div>\n",
              "<style scoped>\n",
              "    .dataframe tbody tr th:only-of-type {\n",
              "        vertical-align: middle;\n",
              "    }\n",
              "\n",
              "    .dataframe tbody tr th {\n",
              "        vertical-align: top;\n",
              "    }\n",
              "\n",
              "    .dataframe thead th {\n",
              "        text-align: right;\n",
              "    }\n",
              "</style>\n",
              "<table border=\"1\" class=\"dataframe\">\n",
              "  <thead>\n",
              "    <tr style=\"text-align: right;\">\n",
              "      <th></th>\n",
              "      <th>review</th>\n",
              "      <th>sentiment</th>\n",
              "    </tr>\n",
              "  </thead>\n",
              "  <tbody>\n",
              "    <tr>\n",
              "      <th>33553</th>\n",
              "      <td>I really liked this Summerslam due to the look...</td>\n",
              "      <td>positive</td>\n",
              "    </tr>\n",
              "    <tr>\n",
              "      <th>9427</th>\n",
              "      <td>Not many television shows appeal to quite as m...</td>\n",
              "      <td>positive</td>\n",
              "    </tr>\n",
              "    <tr>\n",
              "      <th>199</th>\n",
              "      <td>The film quickly gets to a major chase scene w...</td>\n",
              "      <td>negative</td>\n",
              "    </tr>\n",
              "    <tr>\n",
              "      <th>12447</th>\n",
              "      <td>Jane Austen would definitely approve of this o...</td>\n",
              "      <td>positive</td>\n",
              "    </tr>\n",
              "    <tr>\n",
              "      <th>39489</th>\n",
              "      <td>Expectations were somewhat high for me when I ...</td>\n",
              "      <td>negative</td>\n",
              "    </tr>\n",
              "  </tbody>\n",
              "</table>\n",
              "</div>\n",
              "      <button class=\"colab-df-convert\" onclick=\"convertToInteractive('df-ec7a4519-af57-4d97-ab4e-fdbc0379703f')\"\n",
              "              title=\"Convert this dataframe to an interactive table.\"\n",
              "              style=\"display:none;\">\n",
              "        \n",
              "  <svg xmlns=\"http://www.w3.org/2000/svg\" height=\"24px\"viewBox=\"0 0 24 24\"\n",
              "       width=\"24px\">\n",
              "    <path d=\"M0 0h24v24H0V0z\" fill=\"none\"/>\n",
              "    <path d=\"M18.56 5.44l.94 2.06.94-2.06 2.06-.94-2.06-.94-.94-2.06-.94 2.06-2.06.94zm-11 1L8.5 8.5l.94-2.06 2.06-.94-2.06-.94L8.5 2.5l-.94 2.06-2.06.94zm10 10l.94 2.06.94-2.06 2.06-.94-2.06-.94-.94-2.06-.94 2.06-2.06.94z\"/><path d=\"M17.41 7.96l-1.37-1.37c-.4-.4-.92-.59-1.43-.59-.52 0-1.04.2-1.43.59L10.3 9.45l-7.72 7.72c-.78.78-.78 2.05 0 2.83L4 21.41c.39.39.9.59 1.41.59.51 0 1.02-.2 1.41-.59l7.78-7.78 2.81-2.81c.8-.78.8-2.07 0-2.86zM5.41 20L4 18.59l7.72-7.72 1.47 1.35L5.41 20z\"/>\n",
              "  </svg>\n",
              "      </button>\n",
              "      \n",
              "  <style>\n",
              "    .colab-df-container {\n",
              "      display:flex;\n",
              "      flex-wrap:wrap;\n",
              "      gap: 12px;\n",
              "    }\n",
              "\n",
              "    .colab-df-convert {\n",
              "      background-color: #E8F0FE;\n",
              "      border: none;\n",
              "      border-radius: 50%;\n",
              "      cursor: pointer;\n",
              "      display: none;\n",
              "      fill: #1967D2;\n",
              "      height: 32px;\n",
              "      padding: 0 0 0 0;\n",
              "      width: 32px;\n",
              "    }\n",
              "\n",
              "    .colab-df-convert:hover {\n",
              "      background-color: #E2EBFA;\n",
              "      box-shadow: 0px 1px 2px rgba(60, 64, 67, 0.3), 0px 1px 3px 1px rgba(60, 64, 67, 0.15);\n",
              "      fill: #174EA6;\n",
              "    }\n",
              "\n",
              "    [theme=dark] .colab-df-convert {\n",
              "      background-color: #3B4455;\n",
              "      fill: #D2E3FC;\n",
              "    }\n",
              "\n",
              "    [theme=dark] .colab-df-convert:hover {\n",
              "      background-color: #434B5C;\n",
              "      box-shadow: 0px 1px 3px 1px rgba(0, 0, 0, 0.15);\n",
              "      filter: drop-shadow(0px 1px 2px rgba(0, 0, 0, 0.3));\n",
              "      fill: #FFFFFF;\n",
              "    }\n",
              "  </style>\n",
              "\n",
              "      <script>\n",
              "        const buttonEl =\n",
              "          document.querySelector('#df-ec7a4519-af57-4d97-ab4e-fdbc0379703f button.colab-df-convert');\n",
              "        buttonEl.style.display =\n",
              "          google.colab.kernel.accessAllowed ? 'block' : 'none';\n",
              "\n",
              "        async function convertToInteractive(key) {\n",
              "          const element = document.querySelector('#df-ec7a4519-af57-4d97-ab4e-fdbc0379703f');\n",
              "          const dataTable =\n",
              "            await google.colab.kernel.invokeFunction('convertToInteractive',\n",
              "                                                     [key], {});\n",
              "          if (!dataTable) return;\n",
              "\n",
              "          const docLinkHtml = 'Like what you see? Visit the ' +\n",
              "            '<a target=\"_blank\" href=https://colab.research.google.com/notebooks/data_table.ipynb>data table notebook</a>'\n",
              "            + ' to learn more about interactive tables.';\n",
              "          element.innerHTML = '';\n",
              "          dataTable['output_type'] = 'display_data';\n",
              "          await google.colab.output.renderOutput(dataTable, element);\n",
              "          const docLink = document.createElement('div');\n",
              "          docLink.innerHTML = docLinkHtml;\n",
              "          element.appendChild(docLink);\n",
              "        }\n",
              "      </script>\n",
              "    </div>\n",
              "  </div>\n",
              "  "
            ],
            "text/plain": [
              "                                                  review sentiment\n",
              "33553  I really liked this Summerslam due to the look...  positive\n",
              "9427   Not many television shows appeal to quite as m...  positive\n",
              "199    The film quickly gets to a major chase scene w...  negative\n",
              "12447  Jane Austen would definitely approve of this o...  positive\n",
              "39489  Expectations were somewhat high for me when I ...  negative"
            ]
          },
          "execution_count": 18,
          "metadata": {},
          "output_type": "execute_result"
        }
      ],
      "source": [
        "train_data.head()"
      ]
    },
    {
      "cell_type": "code",
      "execution_count": 19,
      "metadata": {
        "colab": {
          "base_uri": "https://localhost:8080/",
          "height": 661
        },
        "id": "oE_I8_CfN5XL",
        "outputId": "512fd676-9754-4d93-cadd-953367ec11db"
      },
      "outputs": [
        {
          "data": {
            "text/html": [
              "\n",
              "  <div id=\"df-974179ea-f674-41cc-b9fa-4414668ea454\">\n",
              "    <div class=\"colab-df-container\">\n",
              "      <div>\n",
              "<style scoped>\n",
              "    .dataframe tbody tr th:only-of-type {\n",
              "        vertical-align: middle;\n",
              "    }\n",
              "\n",
              "    .dataframe tbody tr th {\n",
              "        vertical-align: top;\n",
              "    }\n",
              "\n",
              "    .dataframe thead th {\n",
              "        text-align: right;\n",
              "    }\n",
              "</style>\n",
              "<table border=\"1\" class=\"dataframe\">\n",
              "  <thead>\n",
              "    <tr style=\"text-align: right;\">\n",
              "      <th></th>\n",
              "      <th>review</th>\n",
              "      <th>sentiment</th>\n",
              "    </tr>\n",
              "  </thead>\n",
              "  <tbody>\n",
              "    <tr>\n",
              "      <th>7928</th>\n",
              "      <td>Warning: This review contains a spoiler.&lt;br /&gt;...</td>\n",
              "      <td>negative</td>\n",
              "    </tr>\n",
              "    <tr>\n",
              "      <th>2107</th>\n",
              "      <td>In order to stop her homosexual friend Albert ...</td>\n",
              "      <td>positive</td>\n",
              "    </tr>\n",
              "    <tr>\n",
              "      <th>30363</th>\n",
              "      <td>Wow this was a great Italian \"ZOMBIE\" movie by...</td>\n",
              "      <td>positive</td>\n",
              "    </tr>\n",
              "    <tr>\n",
              "      <th>31262</th>\n",
              "      <td>Making a film based on a true story, particula...</td>\n",
              "      <td>negative</td>\n",
              "    </tr>\n",
              "    <tr>\n",
              "      <th>42135</th>\n",
              "      <td>Bettie Page was a icon of the repressed 1950s,...</td>\n",
              "      <td>positive</td>\n",
              "    </tr>\n",
              "  </tbody>\n",
              "</table>\n",
              "</div>\n",
              "      <button class=\"colab-df-convert\" onclick=\"convertToInteractive('df-974179ea-f674-41cc-b9fa-4414668ea454')\"\n",
              "              title=\"Convert this dataframe to an interactive table.\"\n",
              "              style=\"display:none;\">\n",
              "        \n",
              "  <svg xmlns=\"http://www.w3.org/2000/svg\" height=\"24px\"viewBox=\"0 0 24 24\"\n",
              "       width=\"24px\">\n",
              "    <path d=\"M0 0h24v24H0V0z\" fill=\"none\"/>\n",
              "    <path d=\"M18.56 5.44l.94 2.06.94-2.06 2.06-.94-2.06-.94-.94-2.06-.94 2.06-2.06.94zm-11 1L8.5 8.5l.94-2.06 2.06-.94-2.06-.94L8.5 2.5l-.94 2.06-2.06.94zm10 10l.94 2.06.94-2.06 2.06-.94-2.06-.94-.94-2.06-.94 2.06-2.06.94z\"/><path d=\"M17.41 7.96l-1.37-1.37c-.4-.4-.92-.59-1.43-.59-.52 0-1.04.2-1.43.59L10.3 9.45l-7.72 7.72c-.78.78-.78 2.05 0 2.83L4 21.41c.39.39.9.59 1.41.59.51 0 1.02-.2 1.41-.59l7.78-7.78 2.81-2.81c.8-.78.8-2.07 0-2.86zM5.41 20L4 18.59l7.72-7.72 1.47 1.35L5.41 20z\"/>\n",
              "  </svg>\n",
              "      </button>\n",
              "      \n",
              "  <style>\n",
              "    .colab-df-container {\n",
              "      display:flex;\n",
              "      flex-wrap:wrap;\n",
              "      gap: 12px;\n",
              "    }\n",
              "\n",
              "    .colab-df-convert {\n",
              "      background-color: #E8F0FE;\n",
              "      border: none;\n",
              "      border-radius: 50%;\n",
              "      cursor: pointer;\n",
              "      display: none;\n",
              "      fill: #1967D2;\n",
              "      height: 32px;\n",
              "      padding: 0 0 0 0;\n",
              "      width: 32px;\n",
              "    }\n",
              "\n",
              "    .colab-df-convert:hover {\n",
              "      background-color: #E2EBFA;\n",
              "      box-shadow: 0px 1px 2px rgba(60, 64, 67, 0.3), 0px 1px 3px 1px rgba(60, 64, 67, 0.15);\n",
              "      fill: #174EA6;\n",
              "    }\n",
              "\n",
              "    [theme=dark] .colab-df-convert {\n",
              "      background-color: #3B4455;\n",
              "      fill: #D2E3FC;\n",
              "    }\n",
              "\n",
              "    [theme=dark] .colab-df-convert:hover {\n",
              "      background-color: #434B5C;\n",
              "      box-shadow: 0px 1px 3px 1px rgba(0, 0, 0, 0.15);\n",
              "      filter: drop-shadow(0px 1px 2px rgba(0, 0, 0, 0.3));\n",
              "      fill: #FFFFFF;\n",
              "    }\n",
              "  </style>\n",
              "\n",
              "      <script>\n",
              "        const buttonEl =\n",
              "          document.querySelector('#df-974179ea-f674-41cc-b9fa-4414668ea454 button.colab-df-convert');\n",
              "        buttonEl.style.display =\n",
              "          google.colab.kernel.accessAllowed ? 'block' : 'none';\n",
              "\n",
              "        async function convertToInteractive(key) {\n",
              "          const element = document.querySelector('#df-974179ea-f674-41cc-b9fa-4414668ea454');\n",
              "          const dataTable =\n",
              "            await google.colab.kernel.invokeFunction('convertToInteractive',\n",
              "                                                     [key], {});\n",
              "          if (!dataTable) return;\n",
              "\n",
              "          const docLinkHtml = 'Like what you see? Visit the ' +\n",
              "            '<a target=\"_blank\" href=https://colab.research.google.com/notebooks/data_table.ipynb>data table notebook</a>'\n",
              "            + ' to learn more about interactive tables.';\n",
              "          element.innerHTML = '';\n",
              "          dataTable['output_type'] = 'display_data';\n",
              "          await google.colab.output.renderOutput(dataTable, element);\n",
              "          const docLink = document.createElement('div');\n",
              "          docLink.innerHTML = docLinkHtml;\n",
              "          element.appendChild(docLink);\n",
              "        }\n",
              "      </script>\n",
              "    </div>\n",
              "  </div>\n",
              "  "
            ],
            "text/plain": [
              "                                                  review sentiment\n",
              "7928   Warning: This review contains a spoiler.<br />...  negative\n",
              "2107   In order to stop her homosexual friend Albert ...  positive\n",
              "30363  Wow this was a great Italian \"ZOMBIE\" movie by...  positive\n",
              "31262  Making a film based on a true story, particula...  negative\n",
              "42135  Bettie Page was a icon of the repressed 1950s,...  positive"
            ]
          },
          "execution_count": 19,
          "metadata": {},
          "output_type": "execute_result"
        }
      ],
      "source": [
        "test_data.head()"
      ]
    },
    {
      "cell_type": "code",
      "execution_count": 20,
      "metadata": {
        "id": "7t0baHDnTMQz"
      },
      "outputs": [],
      "source": [
        "train_data, train_labels = train_data[\"review\"], train_data[\"sentiment\"]\n",
        "test_data, test_labels = test_data[\"review\"], test_data[\"sentiment\"]"
      ]
    },
    {
      "cell_type": "code",
      "execution_count": 21,
      "metadata": {
        "colab": {
          "base_uri": "https://localhost:8080/"
        },
        "id": "AC3mBmjeTtLa",
        "outputId": "83a29599-ed8f-4e84-d1fb-047f3d105e62"
      },
      "outputs": [
        {
          "data": {
            "text/plain": [
              "33553    I really liked this Summerslam due to the look...\n",
              "9427     Not many television shows appeal to quite as m...\n",
              "199      The film quickly gets to a major chase scene w...\n",
              "12447    Jane Austen would definitely approve of this o...\n",
              "39489    Expectations were somewhat high for me when I ...\n",
              "Name: review, dtype: object"
            ]
          },
          "execution_count": 21,
          "metadata": {},
          "output_type": "execute_result"
        }
      ],
      "source": [
        "train_data.head()"
      ]
    },
    {
      "cell_type": "code",
      "execution_count": 22,
      "metadata": {
        "colab": {
          "base_uri": "https://localhost:8080/"
        },
        "id": "zdzJ4bCyTyFi",
        "outputId": "68d59bf4-c566-4b6e-aebd-d53e45b6dff5"
      },
      "outputs": [
        {
          "data": {
            "text/plain": [
              "7928     Warning: This review contains a spoiler.<br />...\n",
              "2107     In order to stop her homosexual friend Albert ...\n",
              "30363    Wow this was a great Italian \"ZOMBIE\" movie by...\n",
              "31262    Making a film based on a true story, particula...\n",
              "42135    Bettie Page was a icon of the repressed 1950s,...\n",
              "Name: review, dtype: object"
            ]
          },
          "execution_count": 22,
          "metadata": {},
          "output_type": "execute_result"
        }
      ],
      "source": [
        "test_data.head()"
      ]
    },
    {
      "cell_type": "code",
      "execution_count": 23,
      "metadata": {
        "id": "Pnh5SAsdUFyz"
      },
      "outputs": [],
      "source": [
        "train_data = train_data.apply(lambda review: review.split())\n",
        "test_data = test_data.apply(lambda review: review.split())"
      ]
    },
    {
      "cell_type": "code",
      "execution_count": 24,
      "metadata": {
        "colab": {
          "base_uri": "https://localhost:8080/"
        },
        "id": "LZAnpNyoUPcl",
        "outputId": "e3114db1-838c-43a1-83d3-907457e9147e"
      },
      "outputs": [
        {
          "data": {
            "text/plain": [
              "33553    [I, really, liked, this, Summerslam, due, to, ...\n",
              "9427     [Not, many, television, shows, appeal, to, qui...\n",
              "199      [The, film, quickly, gets, to, a, major, chase...\n",
              "12447    [Jane, Austen, would, definitely, approve, of,...\n",
              "39489    [Expectations, were, somewhat, high, for, me, ...\n",
              "Name: review, dtype: object"
            ]
          },
          "execution_count": 24,
          "metadata": {},
          "output_type": "execute_result"
        }
      ],
      "source": [
        "train_data.head()"
      ]
    },
    {
      "cell_type": "code",
      "execution_count": 25,
      "metadata": {
        "colab": {
          "base_uri": "https://localhost:8080/"
        },
        "id": "DCqlSZoaURfx",
        "outputId": "df44749d-0f71-453f-d06a-f2b9c6470255"
      },
      "outputs": [
        {
          "data": {
            "text/plain": [
              "7928     [Warning:, This, review, contains, a, spoiler....\n",
              "2107     [In, order, to, stop, her, homosexual, friend,...\n",
              "30363    [Wow, this, was, a, great, Italian, \"ZOMBIE\", ...\n",
              "31262    [Making, a, film, based, on, a, true, story,, ...\n",
              "42135    [Bettie, Page, was, a, icon, of, the, represse...\n",
              "Name: review, dtype: object"
            ]
          },
          "execution_count": 25,
          "metadata": {},
          "output_type": "execute_result"
        }
      ],
      "source": [
        "test_data.head()"
      ]
    },
    {
      "attachments": {},
      "cell_type": "markdown",
      "metadata": {
        "id": "rzN9Ft6zOuK0"
      },
      "source": [
        "### Creating word indexes"
      ]
    },
    {
      "cell_type": "code",
      "execution_count": 26,
      "metadata": {
        "id": "RsA-l3cROv1m"
      },
      "outputs": [],
      "source": [
        "text_data = data[\"review\"].tolist()"
      ]
    },
    {
      "cell_type": "code",
      "execution_count": 27,
      "metadata": {
        "colab": {
          "base_uri": "https://localhost:8080/"
        },
        "id": "NhYz11MiO7oF",
        "outputId": "95e865aa-2082-44d7-95ff-03b9cc7aeb26"
      },
      "outputs": [
        {
          "data": {
            "text/plain": [
              "[\"I really liked this Summerslam due to the look of the arena, the curtains and just the look overall was interesting to me for some reason. Anyways, this could have been one of the best Summerslam's ever if the WWF didn't have Lex Luger in the main event against Yokozuna, now for it's time it was ok to have a huge fat man vs a strong man but I'm glad times have changed. It was a terrible main event just like every match Luger is in is terrible. Other matches on the card were Razor Ramon vs Ted Dibiase, Steiner Brothers vs Heavenly Bodies, Shawn Michaels vs Curt Hening, this was the event where Shawn named his big monster of a body guard Diesel, IRS vs 1-2-3 Kid, Bret Hart first takes on Doink then takes on Jerry Lawler and stuff with the Harts and Lawler was always very interesting, then Ludvig Borga destroyed Marty Jannetty, Undertaker took on Giant Gonzalez in another terrible match, The Smoking Gunns and Tatanka took on Bam Bam Bigelow and the Headshrinkers, and Yokozuna defended the world title against Lex Luger this match was boring and it has a terrible ending. However it deserves 8/10\",\n",
              " 'Not many television shows appeal to quite as many different kinds of fans like Farscape does...I know youngsters and 30/40+ years old;fans both Male and Female in as many different countries as you can think of that just adore this T.V miniseries. It has elements that can be found in almost every other show on T.V, character driven drama that could be from an Australian soap opera; yet in the same episode it has science fact & fiction that would give even the hardiest \"Trekkie\" a run for his money in the brainbender stakes! Wormhole theory, Time Travel in true equational form...Magnificent. It embraces cultures from all over the map as the possibilities are endless having multiple stars and therefore thousands of planets to choose from.<br /><br />With such a broad scope; it would be expected that nothing would be able to keep up the illusion for long, but here is where \"Farscape\" really comes into it\\'s own element...It succeeds where all others have failed, especially the likes of Star Trek (a universe with practically zero Kaos element!) They ran out of ideas pretty quickly + kept rehashing them! Over the course of 4 seasons they manage to keep the audience\\'s attention using good continuity and constant character evolution with multiple threads to every episode with unique personal touches to camera that are specific to certain character groups within the whole. This structure allows for an extremely large area of subject matter as loyalties are forged and broken in many ways on many many issues. I happened to see the pilot (Premiere) in passing and just had to keep tuning in after that to see if Crichton would ever \"Get the girl\", after seeing them all on television I was delighted to see them available on DVD & I have to admit that it was the only thing that kept me sane whilst I had to do a 12 hour night shift and developed chronic insomnia...Farscape was the only thing to get me through those extremely long nights...<br /><br />Do yourself a favour; Watch the pilot and see what I mean...<br /><br />Farscape Comet',\n",
              " \"The film quickly gets to a major chase scene with ever increasing destruction. The first really bad thing is the guy hijacking Steven Seagal would have been beaten to pulp by Seagal's driving, but that probably would have ended the whole premise for the movie.<br /><br />It seems like they decided to make all kinds of changes in the movie plot, so just plan to enjoy the action, and do not expect a coherent plot. Turn any sense of logic you may have, it will reduce your chance of getting a headache.<br /><br />I does give me some hope that Steven Seagal is trying to move back towards the type of characters he portrayed in his more popular movies.\",\n",
              " 'Jane Austen would definitely approve of this one!<br /><br />Gwyneth Paltrow does an awesome job capturing the attitude of Emma. She is funny without being excessively silly, yet elegant. She puts on a very convincing British accent (not being British myself, maybe I\\'m not the best judge, but she fooled me...she was also excellent in \"Sliding Doors\"...I sometimes forget she\\'s American ~!). <br /><br />Also brilliant are Jeremy Northam and Sophie Thompson and Phyllida Law (Emma Thompson\\'s sister and mother) as the Bates women. They nearly steal the show...and Ms. Law doesn\\'t even have any lines!<br /><br />Highly recommended.',\n",
              " \"Expectations were somewhat high for me when I went to see this movie, after all I thought Steve Carell could do no wrong coming off of great movies like Anchorman, The 40 Year-Old Virgin, and Little Miss Sunshine. Boy, was I wrong.<br /><br />I'll start with what is right with this movie: at certain points Steve Carell is allowed to be Steve Carell. There are a handful of moments in the film that made me laugh, and it's due almost entirely to him being given the wiggle-room to do his thing. He's an undoubtedly talented individual, and it's a shame that he signed on to what turned out to be, in my opinion, a total train-wreck.<br /><br />With that out of the way, I'll discuss what went horrifyingly wrong.<br /><br />The film begins with Dan Burns, a widower with three girls who is being considered for a nationally syndicated advice column. He prepares his girls for a family reunion, where his extended relatives gather for some time with each other.<br /><br />The family is high atop the list of things that make this an awful movie. No family behaves like this. It's almost as if they've been transported from Pleasantville or Leave it to Beaver. They are a caricature of what we think a family is when we're 7. It reaches the point where they become obnoxious and simply frustrating. Touch football, crossword puzzle competitions, family bowling, and talent shows ARE NOT HOW ACTUAL PEOPLE BEHAVE. It's almost sickening.<br /><br />Another big flaw is the woman Carell is supposed to be falling for. Observing her in her first scene with Steve Carell is like watching a stroke victim trying to be rehabilitated. What I imagine is supposed to be unique and original in this woman comes off as mildly retarded.<br /><br />It makes me think that this movie is taking place on another planet. I left the theater wondering what I just saw. After thinking further, I don't think it was much.\"]"
            ]
          },
          "execution_count": 27,
          "metadata": {},
          "output_type": "execute_result"
        }
      ],
      "source": [
        "text_data[:5]"
      ]
    },
    {
      "cell_type": "code",
      "execution_count": 28,
      "metadata": {
        "id": "8ExhxpPXPBE-"
      },
      "outputs": [],
      "source": [
        "tokenizer = tf.keras.preprocessing.text.Tokenizer()"
      ]
    },
    {
      "cell_type": "code",
      "execution_count": 29,
      "metadata": {
        "id": "REdx4kmHPHRv"
      },
      "outputs": [],
      "source": [
        "tokenizer.fit_on_texts(text_data)"
      ]
    },
    {
      "cell_type": "code",
      "execution_count": 30,
      "metadata": {
        "id": "b7PAZ_bOPJA5"
      },
      "outputs": [],
      "source": [
        "word_indexes = tokenizer.word_index"
      ]
    },
    {
      "cell_type": "code",
      "execution_count": 31,
      "metadata": {
        "colab": {
          "base_uri": "https://localhost:8080/"
        },
        "id": "PDK4pIh4PRx2",
        "outputId": "1e508a18-5235-4a67-a33c-c444e1bec510"
      },
      "outputs": [
        {
          "data": {
            "text/plain": [
              "(124252, [('the', 1), ('and', 2), ('a', 3), ('of', 4), ('to', 5)])"
            ]
          },
          "execution_count": 31,
          "metadata": {},
          "output_type": "execute_result"
        }
      ],
      "source": [
        "len(word_indexes), list(word_indexes.items())[:5]"
      ]
    },
    {
      "attachments": {},
      "cell_type": "markdown",
      "metadata": {
        "id": "XLIaY5uoQS5X"
      },
      "source": [
        "#### Adjusting the word indexes"
      ]
    },
    {
      "cell_type": "code",
      "execution_count": 32,
      "metadata": {
        "id": "2fpK-BFMQdVK"
      },
      "outputs": [],
      "source": [
        "for word, index in word_indexes.items():\n",
        "    word_indexes[word] = index + 3"
      ]
    },
    {
      "cell_type": "code",
      "execution_count": 33,
      "metadata": {
        "colab": {
          "base_uri": "https://localhost:8080/"
        },
        "id": "aZou_0rzQ2bN",
        "outputId": "716aed01-23ed-453a-9ed2-46e57a025989"
      },
      "outputs": [
        {
          "data": {
            "text/plain": [
              "[('the', 4), ('and', 5), ('a', 6), ('of', 7), ('to', 8)]"
            ]
          },
          "execution_count": 33,
          "metadata": {},
          "output_type": "execute_result"
        }
      ],
      "source": [
        "list(word_indexes.items())[:5]"
      ]
    },
    {
      "cell_type": "code",
      "execution_count": 34,
      "metadata": {
        "id": "TQC8INSnQ80d"
      },
      "outputs": [],
      "source": [
        "word_indexes[\"<PAD>\"] = 0\n",
        "word_indexes[\"<UNK>\"] = 1\n",
        "word_indexes[\"<UNUSED>\"] = 2\n",
        "word_indexes[\"<br />\"] = 3\n",
        "word_indexes[\"I\"] = len(word_indexes)\n",
        "word_indexes[\"Summerslam\"] = len(word_indexes)"
      ]
    },
    {
      "cell_type": "code",
      "execution_count": 35,
      "metadata": {
        "id": "W140szT9RQYs"
      },
      "outputs": [],
      "source": [
        "word_indexes = dict(sorted(word_indexes.items(), key=lambda x: x[1]))"
      ]
    },
    {
      "cell_type": "code",
      "execution_count": 36,
      "metadata": {
        "colab": {
          "base_uri": "https://localhost:8080/"
        },
        "id": "cDOFnLfpeMSI",
        "outputId": "44922258-d304-49ab-e9e8-a903ea8367b8"
      },
      "outputs": [
        {
          "name": "stdout",
          "output_type": "stream",
          "text": [
            "Num. of vocabulary: 124258\n"
          ]
        }
      ],
      "source": [
        "print(\"Num. of vocabulary:\", len(list(word_indexes.items())))"
      ]
    },
    {
      "attachments": {},
      "cell_type": "markdown",
      "metadata": {
        "id": "CDr__upcSs9K"
      },
      "source": [
        "#### Encoders"
      ]
    },
    {
      "cell_type": "code",
      "execution_count": 37,
      "metadata": {
        "id": "ylFLkJhySt4h"
      },
      "outputs": [],
      "source": [
        "def review_encoder(review: str):\n",
        "    result = []\n",
        "    punctuation_list = [\",\", \".\", \"!\", \"?\", \"...\", \";\", \":\"]\n",
        "    for word in review:\n",
        "        if word[-1] in punctuation_list:\n",
        "            word = word[:len(word)-1]\n",
        "        if word in word_indexes:\n",
        "            result.append(word_indexes[word])\n",
        "    return result"
      ]
    },
    {
      "cell_type": "code",
      "execution_count": 38,
      "metadata": {
        "id": "cL5GBKtDYktt"
      },
      "outputs": [],
      "source": [
        "def sentiment_encoder(sentiment: str):\n",
        "    if sentiment == \"positive\":\n",
        "        return 1\n",
        "    return 0"
      ]
    },
    {
      "attachments": {},
      "cell_type": "markdown",
      "metadata": {
        "id": "wjV1FR3IrcFm"
      },
      "source": [
        "#### Decoders"
      ]
    },
    {
      "cell_type": "code",
      "execution_count": 119,
      "metadata": {
        "id": "7cdDpV7Dra88"
      },
      "outputs": [],
      "source": [
        "def review_decoder(encoded_review):\n",
        "    encoded_review = list(filter(lambda x: x != 0, encoded_review))\n",
        "    decoded_review = \"\"\n",
        "    index_words = {index: word for word, index in word_indexes.items()}\n",
        "    for encoded_word in encoded_review:\n",
        "        decoded_word = index_words.get(encoded_word)\n",
        "        if decoded_word:\n",
        "            decoded_review += decoded_word + \" \"\n",
        "    return decoded_review.strip()"
      ]
    },
    {
      "attachments": {},
      "cell_type": "markdown",
      "metadata": {
        "id": "mPklJS5iUdus"
      },
      "source": [
        "### Encoding the data"
      ]
    },
    {
      "cell_type": "code",
      "execution_count": 39,
      "metadata": {
        "id": "ZuunHa8wUhRF"
      },
      "outputs": [],
      "source": [
        "train_data = train_data.apply(review_encoder)\n",
        "test_data = test_data.apply(review_encoder)"
      ]
    },
    {
      "cell_type": "code",
      "execution_count": 40,
      "metadata": {
        "colab": {
          "base_uri": "https://localhost:8080/"
        },
        "id": "Pr4j2FLeX-KC",
        "outputId": "37bbd6dc-ebdf-4a70-a994-bc200bc566b8"
      },
      "outputs": [
        {
          "data": {
            "text/plain": [
              "33553    [124256, 65, 428, 14, 124257, 696, 8, 4, 166, ...\n",
              "9427     [109, 698, 279, 1327, 8, 182, 17, 109, 282, 27...\n",
              "199      [22, 944, 220, 8, 6, 664, 1279, 132, 19, 126, ...\n",
              "12447    [61, 409, 11472, 7, 14, 127, 35, 1172, 296, 44...\n",
              "39489    [73, 675, 302, 18, 71, 53, 124256, 417, 8, 66,...\n",
              "                               ...                        \n",
              "1559     [245, 7, 13258, 9, 196, 8, 97, 25, 1163, 29850...\n",
              "13313    [86, 2953, 850, 7, 6, 5472, 452, 36, 634, 983,...\n",
              "13528    [9, 6, 362, 335, 496, 9, 1055, 53, 7558, 7, 10...\n",
              "25017    [125, 382, 12, 29, 554, 15, 124256, 387, 85, 1...\n",
              "19317    [5, 17, 5, 5722, 4, 339, 7, 4, 207, 120, 47, 1...\n",
              "Name: review, Length: 40000, dtype: object"
            ]
          },
          "execution_count": 40,
          "metadata": {},
          "output_type": "execute_result"
        }
      ],
      "source": [
        "train_data"
      ]
    },
    {
      "cell_type": "code",
      "execution_count": 41,
      "metadata": {
        "colab": {
          "base_uri": "https://localhost:8080/"
        },
        "id": "vGI1vzSYYZpy",
        "outputId": "b34bf633-63ba-4614-c8e6-d10d658ef711"
      },
      "outputs": [
        {
          "data": {
            "text/plain": [
              "7928     [718, 1393, 6, 10455, 77, 124256, 305, 9, 164,...\n",
              "2107     [646, 8, 545, 43, 4105, 447, 39, 112, 29329, 1...\n",
              "30363    [14, 16, 6, 81, 20, 34, 108, 81, 1844, 5, 658,...\n",
              "31262    [6, 22, 444, 23, 6, 292, 67, 586, 30, 17, 1073...\n",
              "42135    [16, 6, 5256, 7, 4, 6759, 3167, 53, 62, 4770, ...\n",
              "                               ...                        \n",
              "11284    [37449, 4, 1794, 5, 13304, 7, 4, 89, 20, 1246,...\n",
              "44732    [124256, 258, 14, 20, 8, 29, 182, 735, 5, 994,...\n",
              "38158    [14, 30, 9, 6, 384, 20, 51, 46, 12, 9, 55, 114...\n",
              "860      [356, 16, 182, 6, 848, 18, 71, 124256, 422, 11...\n",
              "15795    [9, 6, 543, 20, 123, 229, 338, 11, 58, 18, 71,...\n",
              "Name: review, Length: 10000, dtype: object"
            ]
          },
          "execution_count": 41,
          "metadata": {},
          "output_type": "execute_result"
        }
      ],
      "source": [
        "test_data"
      ]
    },
    {
      "cell_type": "code",
      "execution_count": 42,
      "metadata": {
        "id": "zfUBq_qHYx5k"
      },
      "outputs": [],
      "source": [
        "train_labels = train_labels.apply(sentiment_encoder)\n",
        "test_labels = test_labels.apply(sentiment_encoder)"
      ]
    },
    {
      "cell_type": "code",
      "execution_count": 43,
      "metadata": {
        "colab": {
          "base_uri": "https://localhost:8080/"
        },
        "id": "T5Qshj81Y6xC",
        "outputId": "2d418fdf-ef12-48b1-8ad6-b14f0a3a897d"
      },
      "outputs": [
        {
          "data": {
            "text/plain": [
              "33553    1\n",
              "9427     1\n",
              "199      0\n",
              "12447    1\n",
              "39489    0\n",
              "        ..\n",
              "1559     0\n",
              "13313    1\n",
              "13528    0\n",
              "25017    1\n",
              "19317    1\n",
              "Name: sentiment, Length: 40000, dtype: int64"
            ]
          },
          "execution_count": 43,
          "metadata": {},
          "output_type": "execute_result"
        }
      ],
      "source": [
        "train_labels"
      ]
    },
    {
      "cell_type": "code",
      "execution_count": 44,
      "metadata": {
        "colab": {
          "base_uri": "https://localhost:8080/"
        },
        "id": "jJc6sX4_Y7yt",
        "outputId": "373a205a-fc68-44e9-a963-17612bf3fcbe"
      },
      "outputs": [
        {
          "data": {
            "text/plain": [
              "7928     0\n",
              "2107     1\n",
              "30363    1\n",
              "31262    0\n",
              "42135    1\n",
              "        ..\n",
              "11284    1\n",
              "44732    1\n",
              "38158    0\n",
              "860      1\n",
              "15795    1\n",
              "Name: sentiment, Length: 10000, dtype: int64"
            ]
          },
          "execution_count": 44,
          "metadata": {},
          "output_type": "execute_result"
        }
      ],
      "source": [
        "test_labels"
      ]
    },
    {
      "attachments": {},
      "cell_type": "markdown",
      "metadata": {
        "id": "Qa3qVMPRZb0p"
      },
      "source": [
        "### Applying padding to the data"
      ]
    },
    {
      "cell_type": "code",
      "execution_count": 45,
      "metadata": {
        "colab": {
          "base_uri": "https://localhost:8080/"
        },
        "id": "TOjtbxq8avzs",
        "outputId": "9f6985c9-cb6f-4235-aec5-039d9b43456a"
      },
      "outputs": [
        {
          "name": "stdout",
          "output_type": "stream",
          "text": [
            "Training data max_len: 1910\n",
            "Test data max_len: 1473\n"
          ]
        }
      ],
      "source": [
        "max_len = 0\n",
        "for td in train_data:\n",
        "    len_td = len(td)\n",
        "    if len_td > max_len:\n",
        "        max_len = len_td\n",
        "\n",
        "print(\"Training data max_len:\", max_len)\n",
        "\n",
        "max_len = 0\n",
        "for td in test_data:\n",
        "    len_td = len(td)\n",
        "    if len_td > max_len:\n",
        "        max_len = len_td\n",
        "\n",
        "print(\"Test data max_len:\", max_len)"
      ]
    },
    {
      "cell_type": "code",
      "execution_count": 46,
      "metadata": {
        "id": "ZgTgWq-pZfRt"
      },
      "outputs": [],
      "source": [
        "train_data = tf.keras.preprocessing.sequence.pad_sequences(\n",
        "    train_data, value=word_indexes[\"<PAD>\"], padding=\"post\", maxlen=2048)\n",
        "test_data = tf.keras.preprocessing.sequence.pad_sequences(\n",
        "    test_data, value=word_indexes[\"<PAD>\"], padding=\"post\", maxlen=2048)"
      ]
    },
    {
      "attachments": {},
      "cell_type": "markdown",
      "metadata": {
        "id": "iGFuG4Zgc4-2"
      },
      "source": [
        "### Building the model"
      ]
    },
    {
      "cell_type": "code",
      "execution_count": 47,
      "metadata": {
        "id": "6nijwQ--c7da"
      },
      "outputs": [],
      "source": [
        "model = tf.keras.Sequential([\n",
        "    tf.keras.layers.Embedding(124258, 16, input_length=2048),\n",
        "    tf.keras.layers.GlobalAveragePooling1D(),\n",
        "    tf.keras.layers.Dense(16, activation='relu'),\n",
        "    tf.keras.layers.Dense(1, activation='sigmoid')\n",
        "])"
      ]
    },
    {
      "cell_type": "code",
      "execution_count": 48,
      "metadata": {
        "id": "67TeBdRTfeWY"
      },
      "outputs": [],
      "source": [
        "model.compile(optimizer='adam', loss='binary_crossentropy', metrics=['accuracy'])"
      ]
    },
    {
      "cell_type": "code",
      "execution_count": 49,
      "metadata": {
        "colab": {
          "base_uri": "https://localhost:8080/"
        },
        "id": "13AZ9jW1fu6q",
        "outputId": "2efde6cb-5dc4-4f02-8e1f-3f985c3905da"
      },
      "outputs": [
        {
          "name": "stdout",
          "output_type": "stream",
          "text": [
            "Model: \"sequential\"\n",
            "_________________________________________________________________\n",
            " Layer (type)                Output Shape              Param #   \n",
            "=================================================================\n",
            " embedding (Embedding)       (None, 2048, 16)          1988128   \n",
            "                                                                 \n",
            " global_average_pooling1d (G  (None, 16)               0         \n",
            " lobalAveragePooling1D)                                          \n",
            "                                                                 \n",
            " dense (Dense)               (None, 16)                272       \n",
            "                                                                 \n",
            " dense_1 (Dense)             (None, 1)                 17        \n",
            "                                                                 \n",
            "=================================================================\n",
            "Total params: 1,988,417\n",
            "Trainable params: 1,988,417\n",
            "Non-trainable params: 0\n",
            "_________________________________________________________________\n"
          ]
        }
      ],
      "source": [
        "model.summary()"
      ]
    },
    {
      "attachments": {},
      "cell_type": "markdown",
      "metadata": {
        "id": "jyOw2GTegCkq"
      },
      "source": [
        "### Training the model\n",
        "I wasn't happy with the results so I trained one more time with increased batch_size"
      ]
    },
    {
      "cell_type": "code",
      "execution_count": 50,
      "metadata": {
        "colab": {
          "base_uri": "https://localhost:8080/"
        },
        "id": "MNO9OszcgDwG",
        "outputId": "6dbd30f4-7fe6-43bc-b533-749b1454bac0"
      },
      "outputs": [
        {
          "name": "stdout",
          "output_type": "stream",
          "text": [
            "Epoch 1/30\n",
            "79/79 [==============================] - 23s 227ms/step - loss: 0.6930 - accuracy: 0.5049 - val_loss: 0.6928 - val_accuracy: 0.5538\n",
            "Epoch 2/30\n",
            "79/79 [==============================] - 19s 236ms/step - loss: 0.6924 - accuracy: 0.5871 - val_loss: 0.6917 - val_accuracy: 0.5318\n",
            "Epoch 3/30\n",
            "79/79 [==============================] - 17s 212ms/step - loss: 0.6903 - accuracy: 0.5791 - val_loss: 0.6883 - val_accuracy: 0.5352\n",
            "Epoch 4/30\n",
            "79/79 [==============================] - 13s 168ms/step - loss: 0.6831 - accuracy: 0.6718 - val_loss: 0.6771 - val_accuracy: 0.6404\n",
            "Epoch 5/30\n",
            "79/79 [==============================] - 14s 176ms/step - loss: 0.6656 - accuracy: 0.6980 - val_loss: 0.6538 - val_accuracy: 0.7323\n",
            "Epoch 6/30\n",
            "79/79 [==============================] - 12s 146ms/step - loss: 0.6352 - accuracy: 0.7480 - val_loss: 0.6202 - val_accuracy: 0.7416\n",
            "Epoch 7/30\n",
            "79/79 [==============================] - 11s 140ms/step - loss: 0.5976 - accuracy: 0.7615 - val_loss: 0.5824 - val_accuracy: 0.7792\n",
            "Epoch 8/30\n",
            "79/79 [==============================] - 10s 125ms/step - loss: 0.5571 - accuracy: 0.7891 - val_loss: 0.5452 - val_accuracy: 0.7960\n",
            "Epoch 9/30\n",
            "79/79 [==============================] - 8s 101ms/step - loss: 0.5183 - accuracy: 0.8072 - val_loss: 0.5101 - val_accuracy: 0.8110\n",
            "Epoch 10/30\n",
            "79/79 [==============================] - 8s 107ms/step - loss: 0.4831 - accuracy: 0.8213 - val_loss: 0.4782 - val_accuracy: 0.8267\n",
            "Epoch 11/30\n",
            "79/79 [==============================] - 6s 81ms/step - loss: 0.4508 - accuracy: 0.8369 - val_loss: 0.4505 - val_accuracy: 0.8377\n",
            "Epoch 12/30\n",
            "79/79 [==============================] - 7s 90ms/step - loss: 0.4222 - accuracy: 0.8478 - val_loss: 0.4278 - val_accuracy: 0.8414\n",
            "Epoch 13/30\n",
            "79/79 [==============================] - 8s 101ms/step - loss: 0.3975 - accuracy: 0.8577 - val_loss: 0.4089 - val_accuracy: 0.8480\n",
            "Epoch 14/30\n",
            "79/79 [==============================] - 7s 84ms/step - loss: 0.3770 - accuracy: 0.8648 - val_loss: 0.3902 - val_accuracy: 0.8541\n",
            "Epoch 15/30\n",
            "79/79 [==============================] - 8s 94ms/step - loss: 0.3580 - accuracy: 0.8720 - val_loss: 0.3754 - val_accuracy: 0.8602\n",
            "Epoch 16/30\n",
            "79/79 [==============================] - 7s 96ms/step - loss: 0.3418 - accuracy: 0.8785 - val_loss: 0.3632 - val_accuracy: 0.8637\n",
            "Epoch 17/30\n",
            "79/79 [==============================] - 6s 81ms/step - loss: 0.3284 - accuracy: 0.8815 - val_loss: 0.3544 - val_accuracy: 0.8635\n",
            "Epoch 18/30\n",
            "79/79 [==============================] - 7s 94ms/step - loss: 0.3159 - accuracy: 0.8863 - val_loss: 0.3458 - val_accuracy: 0.8681\n",
            "Epoch 19/30\n",
            "79/79 [==============================] - 5s 65ms/step - loss: 0.3047 - accuracy: 0.8891 - val_loss: 0.3390 - val_accuracy: 0.8693\n",
            "Epoch 20/30\n",
            "79/79 [==============================] - 8s 103ms/step - loss: 0.2950 - accuracy: 0.8929 - val_loss: 0.3302 - val_accuracy: 0.8725\n",
            "Epoch 21/30\n",
            "79/79 [==============================] - 5s 68ms/step - loss: 0.2864 - accuracy: 0.8945 - val_loss: 0.3255 - val_accuracy: 0.8743\n",
            "Epoch 22/30\n",
            "79/79 [==============================] - 6s 80ms/step - loss: 0.2769 - accuracy: 0.8990 - val_loss: 0.3201 - val_accuracy: 0.8760\n",
            "Epoch 23/30\n",
            "79/79 [==============================] - 4s 46ms/step - loss: 0.2701 - accuracy: 0.9004 - val_loss: 0.3151 - val_accuracy: 0.8780\n",
            "Epoch 24/30\n",
            "79/79 [==============================] - 4s 55ms/step - loss: 0.2625 - accuracy: 0.9038 - val_loss: 0.3111 - val_accuracy: 0.8795\n",
            "Epoch 25/30\n",
            "79/79 [==============================] - 5s 67ms/step - loss: 0.2555 - accuracy: 0.9064 - val_loss: 0.3097 - val_accuracy: 0.8786\n",
            "Epoch 26/30\n",
            "79/79 [==============================] - 4s 51ms/step - loss: 0.2494 - accuracy: 0.9087 - val_loss: 0.3056 - val_accuracy: 0.8807\n",
            "Epoch 27/30\n",
            "79/79 [==============================] - 3s 39ms/step - loss: 0.2437 - accuracy: 0.9106 - val_loss: 0.3032 - val_accuracy: 0.8815\n",
            "Epoch 28/30\n",
            "79/79 [==============================] - 3s 45ms/step - loss: 0.2380 - accuracy: 0.9137 - val_loss: 0.2995 - val_accuracy: 0.8828\n",
            "Epoch 29/30\n",
            "79/79 [==============================] - 3s 43ms/step - loss: 0.2322 - accuracy: 0.9153 - val_loss: 0.2972 - val_accuracy: 0.8840\n",
            "Epoch 30/30\n",
            "79/79 [==============================] - 3s 44ms/step - loss: 0.2271 - accuracy: 0.9177 - val_loss: 0.2955 - val_accuracy: 0.8840\n"
          ]
        }
      ],
      "source": [
        "history = model.fit(train_data, train_labels, epochs=30, batch_size=512, validation_data=(test_data, test_labels))"
      ]
    },
    {
      "cell_type": "code",
      "execution_count": 52,
      "metadata": {
        "colab": {
          "base_uri": "https://localhost:8080/"
        },
        "id": "FU7Lkkqtj9C4",
        "outputId": "28022d8a-dd1d-4073-afce-404c1b74e412"
      },
      "outputs": [
        {
          "name": "stdout",
          "output_type": "stream",
          "text": [
            "Epoch 1/30\n",
            "20/20 [==============================] - 5s 245ms/step - loss: 0.2228 - accuracy: 0.9196 - val_loss: 0.2941 - val_accuracy: 0.8854\n",
            "Epoch 2/30\n",
            "20/20 [==============================] - 6s 279ms/step - loss: 0.2212 - accuracy: 0.9200 - val_loss: 0.2936 - val_accuracy: 0.8856\n",
            "Epoch 3/30\n",
            "20/20 [==============================] - 5s 238ms/step - loss: 0.2199 - accuracy: 0.9207 - val_loss: 0.2935 - val_accuracy: 0.8858\n",
            "Epoch 4/30\n",
            "20/20 [==============================] - 6s 298ms/step - loss: 0.2188 - accuracy: 0.9212 - val_loss: 0.2926 - val_accuracy: 0.8862\n",
            "Epoch 5/30\n",
            "20/20 [==============================] - 6s 301ms/step - loss: 0.2176 - accuracy: 0.9215 - val_loss: 0.2929 - val_accuracy: 0.8851\n",
            "Epoch 6/30\n",
            "20/20 [==============================] - 7s 343ms/step - loss: 0.2164 - accuracy: 0.9226 - val_loss: 0.2921 - val_accuracy: 0.8868\n",
            "Epoch 7/30\n",
            "20/20 [==============================] - 6s 325ms/step - loss: 0.2149 - accuracy: 0.9229 - val_loss: 0.2914 - val_accuracy: 0.8867\n",
            "Epoch 8/30\n",
            "20/20 [==============================] - 7s 365ms/step - loss: 0.2138 - accuracy: 0.9233 - val_loss: 0.2917 - val_accuracy: 0.8863\n",
            "Epoch 9/30\n",
            "20/20 [==============================] - 4s 200ms/step - loss: 0.2129 - accuracy: 0.9238 - val_loss: 0.2907 - val_accuracy: 0.8867\n",
            "Epoch 10/30\n",
            "20/20 [==============================] - 4s 179ms/step - loss: 0.2113 - accuracy: 0.9241 - val_loss: 0.2901 - val_accuracy: 0.8873\n",
            "Epoch 11/30\n",
            "20/20 [==============================] - 5s 245ms/step - loss: 0.2104 - accuracy: 0.9240 - val_loss: 0.2902 - val_accuracy: 0.8875\n",
            "Epoch 12/30\n",
            "20/20 [==============================] - 4s 185ms/step - loss: 0.2092 - accuracy: 0.9245 - val_loss: 0.2899 - val_accuracy: 0.8870\n",
            "Epoch 13/30\n",
            "20/20 [==============================] - 3s 168ms/step - loss: 0.2079 - accuracy: 0.9252 - val_loss: 0.2894 - val_accuracy: 0.8873\n",
            "Epoch 14/30\n",
            "20/20 [==============================] - 4s 202ms/step - loss: 0.2066 - accuracy: 0.9258 - val_loss: 0.2885 - val_accuracy: 0.8880\n",
            "Epoch 15/30\n",
            "20/20 [==============================] - 4s 195ms/step - loss: 0.2053 - accuracy: 0.9265 - val_loss: 0.2884 - val_accuracy: 0.8870\n",
            "Epoch 16/30\n",
            "20/20 [==============================] - 3s 165ms/step - loss: 0.2041 - accuracy: 0.9270 - val_loss: 0.2878 - val_accuracy: 0.8872\n",
            "Epoch 17/30\n",
            "20/20 [==============================] - 4s 209ms/step - loss: 0.2029 - accuracy: 0.9273 - val_loss: 0.2884 - val_accuracy: 0.8888\n",
            "Epoch 18/30\n",
            "20/20 [==============================] - 4s 211ms/step - loss: 0.2019 - accuracy: 0.9275 - val_loss: 0.2871 - val_accuracy: 0.8880\n",
            "Epoch 19/30\n",
            "20/20 [==============================] - 4s 185ms/step - loss: 0.2006 - accuracy: 0.9280 - val_loss: 0.2873 - val_accuracy: 0.8871\n",
            "Epoch 20/30\n",
            "20/20 [==============================] - 3s 168ms/step - loss: 0.1994 - accuracy: 0.9287 - val_loss: 0.2865 - val_accuracy: 0.8879\n",
            "Epoch 21/30\n",
            "20/20 [==============================] - 4s 202ms/step - loss: 0.1986 - accuracy: 0.9287 - val_loss: 0.2863 - val_accuracy: 0.8891\n",
            "Epoch 22/30\n",
            "20/20 [==============================] - 2s 110ms/step - loss: 0.1977 - accuracy: 0.9290 - val_loss: 0.2860 - val_accuracy: 0.8880\n",
            "Epoch 23/30\n",
            "20/20 [==============================] - 4s 189ms/step - loss: 0.1960 - accuracy: 0.9301 - val_loss: 0.2856 - val_accuracy: 0.8878\n",
            "Epoch 24/30\n",
            "20/20 [==============================] - 4s 208ms/step - loss: 0.1948 - accuracy: 0.9307 - val_loss: 0.2853 - val_accuracy: 0.8880\n",
            "Epoch 25/30\n",
            "20/20 [==============================] - 3s 162ms/step - loss: 0.1934 - accuracy: 0.9314 - val_loss: 0.2851 - val_accuracy: 0.8885\n",
            "Epoch 26/30\n",
            "20/20 [==============================] - 3s 159ms/step - loss: 0.1923 - accuracy: 0.9311 - val_loss: 0.2852 - val_accuracy: 0.8881\n",
            "Epoch 27/30\n",
            "20/20 [==============================] - 3s 155ms/step - loss: 0.1914 - accuracy: 0.9317 - val_loss: 0.2846 - val_accuracy: 0.8888\n",
            "Epoch 28/30\n",
            "20/20 [==============================] - 4s 192ms/step - loss: 0.1902 - accuracy: 0.9323 - val_loss: 0.2848 - val_accuracy: 0.8882\n",
            "Epoch 29/30\n",
            "20/20 [==============================] - 4s 202ms/step - loss: 0.1889 - accuracy: 0.9324 - val_loss: 0.2843 - val_accuracy: 0.8896\n",
            "Epoch 30/30\n",
            "20/20 [==============================] - 2s 105ms/step - loss: 0.1877 - accuracy: 0.9330 - val_loss: 0.2839 - val_accuracy: 0.8891\n"
          ]
        }
      ],
      "source": [
        "history = model.fit(train_data, train_labels, epochs=30, batch_size=2048, validation_data=(test_data, test_labels))"
      ]
    },
    {
      "cell_type": "code",
      "execution_count": 53,
      "metadata": {
        "colab": {
          "base_uri": "https://localhost:8080/"
        },
        "id": "9h_-Bb8EjlxW",
        "outputId": "4f46d869-a41f-4824-b05d-47527030088d"
      },
      "outputs": [
        {
          "name": "stdout",
          "output_type": "stream",
          "text": [
            "313/313 [==============================] - 1s 2ms/step - loss: 0.2839 - accuracy: 0.8891\n"
          ]
        }
      ],
      "source": [
        "loss, accuracy = model.evaluate(test_data, test_labels)"
      ]
    },
    {
      "attachments": {},
      "cell_type": "markdown",
      "metadata": {
        "id": "K8eP4ZFykffC"
      },
      "source": [
        "### Testing the model"
      ]
    },
    {
      "cell_type": "code",
      "execution_count": 170,
      "metadata": {
        "id": "zbGSJBoIrSGp"
      },
      "outputs": [],
      "source": [
        "def get_random_review():\n",
        "    index = np.random.randint(1, len(test_data))\n",
        "    print(\"Random index:\", index)\n",
        "    test_sample = test_data[index]\n",
        "    print(\"Review:\", review_decoder(test_sample))\n",
        "    return test_sample, test_labels.iloc[index]"
      ]
    },
    {
      "cell_type": "code",
      "execution_count": 197,
      "metadata": {
        "id": "dUPsRzdst5kE"
      },
      "outputs": [],
      "source": [
        "def test_model():\n",
        "    _review, _sentiment = get_random_review()\n",
        "    random_review = np.array([_review])\n",
        "    print(\"\\nOriginal sentiment:\", \"positive\" if _sentiment == 1 else \"negative\")\n",
        "    prediction = model.predict(random_review)\n",
        "    formatted_percentage = \"{:.3f}%\".format(prediction[0][0]*100)\n",
        "    if prediction > 0.5:\n",
        "        print(\"Model thinks it's a positive sentiment with the certainty of\", formatted_percentage, \"positivity\")\n",
        "    else:\n",
        "        print(\"Model thinks it's a negative sentiment with the certainty of\", formatted_percentage, \"positivity\")"
      ]
    },
    {
      "cell_type": "code",
      "execution_count": 198,
      "metadata": {
        "colab": {
          "base_uri": "https://localhost:8080/"
        },
        "id": "9l7EtoG0vR29",
        "outputId": "8e1b0eee-fca8-42bc-c00f-6dd8c227ba74"
      },
      "outputs": [
        {
          "name": "stdout",
          "output_type": "stream",
          "text": [
            "Random index: 1321\n",
            "Review: reading the comment made about this movie and currently watching it I can understand how the person felt about it decisions made were after listening to common sense the movie came out I had heard the information as to how it came about storyline was made from an actual event an award show an actor thanking the li'l people attributed the award to a former school teacher unexpectedly outing the course many people come 'out' of the closet most every day outing is different for each person real life the outcome of any individual is gonna be different as well a willingness to accept who they are is the most important thing in life to reach personal happiness those around them the joy and honest acceptance can make life much more fuller the movie the outcome of how is out'ed is a lot more comical than real life the acceptance of the community showed the others that was himself and nothing the performances were crazy memorable quotes and use of music add to the out there in the world but taken with tongue and cheek humour a movie down watch with an open mind and laugh your head off\n",
            "\n",
            "Original sentiment: positive\n",
            "1/1 [==============================] - 0s 19ms/step\n",
            "Model thinks it's a positive sentiment with the certainty of 99.557% positivity\n"
          ]
        }
      ],
      "source": [
        "test_model()"
      ]
    },
    {
      "cell_type": "code",
      "execution_count": 199,
      "metadata": {
        "colab": {
          "base_uri": "https://localhost:8080/"
        },
        "id": "naiFPFLUw_2B",
        "outputId": "b2d8928a-5b63-44a5-93a6-86bf3eca04d4"
      },
      "outputs": [
        {
          "name": "stdout",
          "output_type": "stream",
          "text": [
            "Random index: 8098\n",
            "Review: directors crossing over to to make movies is nothing new with the temporary exodus of the likes of in the 90s their collective output only a few movies may I say just made an impact at the box office and partnership has been a tour de force in recent cinematic history especially with their now famous trilogy which was remade into so it's no surprise when comes knocking on the without fellow collaborator who usually has duties how did fare with writers and like the without the in the way the story is crafted the characters and the parallels drawn with the series and pair up ala and only that they don't belong to any federal investigative agency who bear arms but are employees of who's chief role is to ensure that sexual predators who belong to their jurisdiction are kept safe from society when they are released from having served time they are the shepherds tending to their flock only that their flock suffer from sick sexual perversion with the propensity for parallels in characterization are so blatantly obvious that it's just a cosmetic touch up on the outside is a strange lonely man consumed by his obsession in his quest to doggedly harass his flock to tote the line by a failed attempt to rescue a missing child just like how pines for his missing sister is shunned by colleagues and given the marching orders disguised as a retirement plan has deep disgust for the people he's monitoring sick of their crimes and what they stand for that he has no qualms in using unorthodox methods short of flying off the handle while dishing out illegal preemptive punishment the same time he too has strong urges that he has to fight against in order not to cross the line into becoming like those he loathes part of routine he also scans newspapers and tabloids for clues and leads toward his objective that of seeking closure salvation for himself and possessing a strong belief that the truth is still out there and he wants to on the other hand is the ingénue brought in to replace in the meantime while learning the ropes on the job for the next 18 days she is required to spy on him and to report his shenanigans pretty much like what was tasked to do with the disbeliever of and holding onto the notion that those discharged back to society have been cured of their temptations she slowly starts to see what sees and understands that it takes a whole lot more than being just a desk and administrative job if she truly wants to help it is this discovery of the world of fetishes and deviant sexual practices that we open all our eyes to much like how 8mm starring brought snuff films into the spotlight a decent investigative drama with the usual red herrings and my are they really good ones as it made you wonder quite often if your guesses are correct and you soon find yourself firing from the hip as you get proved incorrect at alarming frequency though I don't credit this to a tight narrative but more from the sprawling number of characters out for and sub plots scene in the darkened was akin to and when they raided apartment and find plenty of bizarreness inside though here given the subject nature it wasn't lingered upon somehow decided that cinematography was good enough despite its very strange style of having no style utilizing almost every trick in the book to try and recreate feelings of watching another only that this was deeply steeped in tinges of brown rather than the doom and gloom of black does take a little while to get used to this and I put this effect as one which actually distracts from what is happening in the story a really good move though with somewhat frequent repetition of scenes involving still makes decent entertainment though out there would probably find it hard not to picture their favourite actors in the lead roles given so much similarities in character and do put forth some chemistry as the old fogey and his protégé and while it's not exactly great did manage to pull off something enjoyable\n",
            "\n",
            "Original sentiment: positive\n",
            "1/1 [==============================] - 0s 18ms/step\n",
            "Model thinks it's a positive sentiment with the certainty of 99.445% positivity\n"
          ]
        }
      ],
      "source": [
        "test_model()"
      ]
    },
    {
      "cell_type": "code",
      "execution_count": 200,
      "metadata": {
        "colab": {
          "base_uri": "https://localhost:8080/"
        },
        "id": "385YXrBOxAnj",
        "outputId": "00ec1fa9-bb87-43a6-acd0-9f381e924a1b"
      },
      "outputs": [
        {
          "name": "stdout",
          "output_type": "stream",
          "text": [
            "Random index: 2872\n",
            "Review: 2054 a computer generated system controls the city and when a young woman is kidnapped detective must go against to find is a splendid blend of film making mixed with a conceptual futuristic narrative that lights up the screen in a shocking manor with a noir themed ideology and conceptual montages that should delight are the animation masters numerous winning films are endless from the charming to the mystifying and so any company or director has a real challenge to knock them of their perch isn't a film aimed for the young audience though and like 2007's brings a strong and mature approach to the genre of animation to make an older and more challenging film to its targeted older 2005 released a shockingly brilliant noir that shook up the whole usage of green screen with a splendid balance of filming in black and white with the odd spurts of colour and a year later took up a similar approach with this equally visually masterful stroke of film picture however is a full on animation but it doesn't half look realistic for the majority of it's strong 1 hour and 40 minutes of running time faces of the character's are well portrayed and in particular this film has got to be the finest ever for the usage of shadow fact we never know if its night or day is irrelevant when simply gazing into the stony faces as the shadows blend across their expressions is almost a clever use of pathetic fallacy and is finely directed anyone who has seen you will have come to the conclusion it is one of the finest directed animations ever screened for the simple but highly conceptual artistic style by is equally on terms with that picture and in many instances rivals it with stronger graphics and a darker tone to reflect the mood scene in particular when appears out of darkness is beautifully narrative revolves around a stubborn and nosey political government who keeps tabs on every citizen running of is down to the mysterious which we don't see nearly enough to get an essence of its true dominance is controlling the narrative around a tired cop's attempts to rescue the mysterious woman and then we see tired and boring cop attempt a rescue whilst battling with other elements are many things wrong with the scripting not to mention the tired exasperated cop routine is now old but there is plenty of dashing adrenaline and springy banter between characters to keep it alive right till a wonderfully shot shocking last couple of stages\n",
            "\n",
            "Original sentiment: positive\n",
            "1/1 [==============================] - 0s 32ms/step\n",
            "Model thinks it's a positive sentiment with the certainty of 99.864% positivity\n"
          ]
        }
      ],
      "source": [
        "test_model()"
      ]
    },
    {
      "cell_type": "code",
      "execution_count": 201,
      "metadata": {
        "colab": {
          "base_uri": "https://localhost:8080/"
        },
        "id": "jruTTPNjxBlu",
        "outputId": "8c24134d-0ea8-457c-889b-e8778ed62886"
      },
      "outputs": [
        {
          "name": "stdout",
          "output_type": "stream",
          "text": [
            "Random index: 2535\n",
            "Review: I rented recently mainly because I read that it was this film that inspired to make however is more of a thriller than a drama film is quite political but I agree strongly with its message nuclear power though extremely efficient is far too dangerous for common use risks are simply too high the persons in charge of real nuclear plants are far more responsible and ethical than those depicted in the film given that the at happened mere months after this film was released puts that in question fairness that case was probably more one of incompetence than of is not just critical of nuclear power but also of modern news media similar in vein to only much more serious a print journalist myself I am quite familiar with how people perceive the media but it was a little frightening to see that even in the '70's news was already selling out character tries to convince her boss to let her do real news instead of fluff she is advised not to try the change as finds that people prefer a pretty girl to do fluff not hard truly makes the film memorable however is the incredible suspense generated in its final third this period the viewer is constantly fearing for the lives of the protagonists whether the danger is coming from hired thugs or the potential meltdown of the nuclear plant that very last scene I won't give it away of course but it will keep you a final note I did get a distinct feel watching the film that it seemed at times more like a movie than a true theatrical film could be however due more to the fact that the rental tape I was watching was quite old and not formatted to fit screens the way videos and are today\n",
            "\n",
            "Original sentiment: positive\n",
            "1/1 [==============================] - 0s 20ms/step\n",
            "Model thinks it's a positive sentiment with the certainty of 91.547% positivity\n"
          ]
        }
      ],
      "source": [
        "test_model()"
      ]
    },
    {
      "cell_type": "code",
      "execution_count": 202,
      "metadata": {
        "colab": {
          "base_uri": "https://localhost:8080/"
        },
        "id": "Epb-quOFxCya",
        "outputId": "00930431-4374-4156-8e87-782c5a76b214"
      },
      "outputs": [
        {
          "name": "stdout",
          "output_type": "stream",
          "text": [
            "Random index: 6882\n",
            "Review: I had my doubts about another love story wherein disabled individuals find meaning and redemption through honest communication it's still not at the top of my list the performances from and and exemplary almost stunning and rescue this from being just another depiction of an victim is strong perhaps even overdone at times her dialog dissolves into undistinguishable the overall effect is commendable and rewarding may be the perfect compliment to her\n",
            "\n",
            "Original sentiment: positive\n",
            "1/1 [==============================] - 0s 32ms/step\n",
            "Model thinks it's a positive sentiment with the certainty of 97.275% positivity\n"
          ]
        }
      ],
      "source": [
        "test_model()"
      ]
    },
    {
      "cell_type": "code",
      "execution_count": 203,
      "metadata": {
        "colab": {
          "base_uri": "https://localhost:8080/"
        },
        "id": "H8le2rWlxDf9",
        "outputId": "45355ca1-612d-45fd-9d4a-6ed3a7050e6e"
      },
      "outputs": [
        {
          "name": "stdout",
          "output_type": "stream",
          "text": [
            "Random index: 7019\n",
            "Review: I tried I really did I thought that maybe if I gave another chance I could enjoy his movie I know that after seeing I felt ill and nearly disgusted to the core but some of the reviews were quite good and in favor so I was like the hell least you didn't pay 10 dollars at the it a it's better to go to your dentist and ask for a root canal without any previous anesthetic to alleviate the horror of so much pain I often wonder if it wouldn't be better to go back to my childhood and demand my former bullies to really let me have it other occasions I often think that the world is really flat and that if I sail away far enough I will not only get away from it all but fall clear over and that some evil thing will snatch me with its 9000 tentacles and squeeze the life and some french fries from 1995 still lingering inside my esophagus out of there a reason for say not at just that maybe her thought that writing a story centered on her madness that makes look like look not only creepy but sick to the bone first of all decides to leave her present boyfriend shrieking because she wants a child and he believes they're too young later crashes a funeral of a gay man and get this in order to get closer to him she feigns being pregnant while insinuating herself into the lives of the dead man's mother and lover in the sickest of ways of course she shrieks like a banshee and throws herself not one but a good three times on his grave there's this ridiculous business that she progressively becomes which sums up some explanation that love knows no gender say she's as nuts as a can of cashews unsalted then again so's the director me for taking a chance on this least the men look good than not much else to see here\n",
            "\n",
            "Original sentiment: negative\n",
            "1/1 [==============================] - 0s 19ms/step\n",
            "Model thinks it's a negative sentiment with the certainty of 10.678% positivity\n"
          ]
        }
      ],
      "source": [
        "test_model()"
      ]
    },
    {
      "cell_type": "code",
      "execution_count": 204,
      "metadata": {
        "colab": {
          "base_uri": "https://localhost:8080/"
        },
        "id": "-K_dS6CnxEzq",
        "outputId": "f370078f-07d7-4786-8f50-2ff8c9a339af"
      },
      "outputs": [
        {
          "name": "stdout",
          "output_type": "stream",
          "text": [
            "Random index: 8959\n",
            "Review: movie is I don't even know where to begin speechless I can't even describe how awful this is blood is flourescent first of all and the acting is only good part was the biker chick that saves the day movie was rediculous I don't see how it could even get a vote of 1 its so bad looks like it was made by highschool students\n",
            "\n",
            "Original sentiment: negative\n",
            "1/1 [==============================] - 0s 27ms/step\n",
            "Model thinks it's a negative sentiment with the certainty of 3.107% positivity\n"
          ]
        }
      ],
      "source": [
        "test_model()"
      ]
    },
    {
      "cell_type": "code",
      "execution_count": 205,
      "metadata": {
        "colab": {
          "base_uri": "https://localhost:8080/"
        },
        "id": "xLBYg59_xFrd",
        "outputId": "b0f1500f-9f4e-4a4b-8266-d540da4d4110"
      },
      "outputs": [
        {
          "name": "stdout",
          "output_type": "stream",
          "text": [
            "Random index: 9678\n",
            "Review: I normally don't like romantic films but I love this film very much story is really touching and the ending is very appropriate I feel I really care for many characters in this film I feel I can feel their feelings most romantic films always make me feel detached and bored this one completely makes me feel involved starting from the scene of running along the beach with until the ending scene I want to rate this film 11 out of 10 because I want to give an extra one point for the ending acting part is very strong has a good opportunity to show her talent not impressed with in on this film completely changes my viewpoint towards him so irresistibly charming here is as terrific as film might not be as good complex deep or believable as other films which deal a little bit with the same kind of relationship such as de la chair' or coitum animal but can still be proud of itself as it casts a rare different light on that kind of relationship that difference makes this film eminently enjoyable being unambitious and relying on great charms of small stars this time you really make my dream come true\n",
            "\n",
            "Original sentiment: positive\n",
            "1/1 [==============================] - 0s 25ms/step\n",
            "Model thinks it's a positive sentiment with the certainty of 99.972% positivity\n"
          ]
        }
      ],
      "source": [
        "test_model()"
      ]
    },
    {
      "cell_type": "code",
      "execution_count": 206,
      "metadata": {
        "colab": {
          "base_uri": "https://localhost:8080/"
        },
        "id": "4sPtzZ7gxG9o",
        "outputId": "4815441f-7038-474a-eba5-1644114c23e3"
      },
      "outputs": [
        {
          "name": "stdout",
          "output_type": "stream",
          "text": [
            "Random index: 8734\n",
            "Review: this as a young naive punk when it was first released me snifflin' like a baby as I left the theatre trying not to let anyone see when I saw it again now in '07 I knew what to expect the sobs were ready primed as their required moment approached this time I was at I hadn't remembered from my youthful or perhaps hadn't noticed because of it was the technical brilliance of this movie use of flashbacks which tell so much story without resorting to dialogue camera work which seemed to place the viewer together with the characters in the scene of the opening when is crossing the street to the diner the camera pans behind the woman child sitting on a bench in the foreground framing the street scene story itself the characters seedy sad brutally real is very touching to be drawn so closely into a human drama such as this with people most of us would likely spurn again could be any of us have been '70 when I saw it I recall that upon leaving the theatre I was impelled to find the company of friends these years later glad not alone tonight is one hell of a great movie\n",
            "\n",
            "Original sentiment: positive\n",
            "1/1 [==============================] - 0s 70ms/step\n",
            "Model thinks it's a positive sentiment with the certainty of 88.618% positivity\n"
          ]
        }
      ],
      "source": [
        "test_model()"
      ]
    },
    {
      "cell_type": "code",
      "execution_count": 207,
      "metadata": {
        "colab": {
          "base_uri": "https://localhost:8080/"
        },
        "id": "3gQix1nlxHuC",
        "outputId": "2300af95-4217-4754-928c-d32c43d8d29e"
      },
      "outputs": [
        {
          "name": "stdout",
          "output_type": "stream",
          "text": [
            "Random index: 1153\n",
            "Review: is a great story and was just the beginning of equality in the are still working on it despite the fact this is true it's still a movie and this is a movie site I realize independent films have a hard time getting good actors but wow only one even mediocre is the excellent even he couldn't make up for all the actors the one playing him as a young absolutely atrocious acting the script was terribly cliché but even then you have got to get some decent actors I wouldn't recommend this to anybody because it is so poorly done in every category some books about the true story of the because they give these men the respect they deserve\n",
            "\n",
            "Original sentiment: negative\n",
            "1/1 [==============================] - 0s 132ms/step\n",
            "Model thinks it's a negative sentiment with the certainty of 4.953% positivity\n"
          ]
        }
      ],
      "source": [
        "test_model()"
      ]
    },
    {
      "cell_type": "code",
      "execution_count": 208,
      "metadata": {
        "colab": {
          "base_uri": "https://localhost:8080/"
        },
        "id": "g2Bx6pD_xIee",
        "outputId": "342de46e-21e6-44d0-e598-b97010339315"
      },
      "outputs": [
        {
          "name": "stdout",
          "output_type": "stream",
          "text": [
            "Random index: 8198\n",
            "Review: 1 let's suspend belief for a moment and let's stop pretending we could might or ought know it or to there in space knowledge in that area is probably primitive as say middle ages maps are compared to today's satellite maps so we really have no clue 2 considering this is a it gets much better than many big budget blockbusters and that is just incredible 3 all in all a show worth watching as it portrays the enhanced and fictionalized account of what we know of the solar system this far 4 probably fictionalizing and the whole thing is the only way to make it palatable to a large public watched clips from space missions and space probes quality is generally average to poor and the comparison would be between looking at a chest what it tells about the human body and compare it with a cyborg one would be most entertaining the chest is real while the cyborg flick is just fictionalized 5 actors do a good job i'll tell my grandchildren about but very fair for it being a\n",
            "\n",
            "Original sentiment: positive\n",
            "1/1 [==============================] - 0s 18ms/step\n",
            "Model thinks it's a negative sentiment with the certainty of 15.278% positivity\n"
          ]
        }
      ],
      "source": [
        "test_model()"
      ]
    },
    {
      "cell_type": "code",
      "execution_count": 209,
      "metadata": {
        "colab": {
          "base_uri": "https://localhost:8080/"
        },
        "id": "D-5G-xZoxJOh",
        "outputId": "0c2941f5-e98e-457f-e9ce-f2a925dbd576"
      },
      "outputs": [
        {
          "name": "stdout",
          "output_type": "stream",
          "text": [
            "Random index: 8125\n",
            "Review: and time again it seems that the comedic actors of are surprising me with their talents as dramatic performers first it was then it was being one then than and now that's absolutely right the guy who has based an entire career on making brainless goofball comedies not complaining always been a has finally given me a performance of which he can be proud course some readers may be wondering whatever happened to but I can only assure you that it's a film currently taking measures to see as soon as possible since heard it's terrific first film from director is an intelligent and respectful exploration of grief and friendship it does occasionally stray into territory the somewhat predictable storyline proves surprisingly deep and moving with both and giving memorable is a successful dentist with a good family though he finds himself unable to communicate adequately with his wife and so his marriage is a little shaky is roommate a man who lost his entire family in the terrorist attacks of 11 2001 and who is still confronting his overwhelming feelings of grief disheveled figure with messy hair and downcast eyes likened in appearance to has abandoned his career in dentistry and spends his time in solitude listening to music with headphones that cut out all sound from the outside world driving around in his motorised scooter immersing himself in fantastical video games and repeatedly redecorating his apartment kitchen in accordance with his deceased wife's final wishes and meet for the first time in years the latter doesn't even recognise an old friend having completely abandoned any memories prior to his experience at first he doesn't even acknowledge the existence of his family and abruptly loses his temper whenever anybody suggests that he seek it may seem a bit exploitative for the filmmakers to be using the 11 attacks as a storytelling device wouldn't it be just as devastating if family had died in an ordinary everyday car accident if you consider that the director's intention was to demonstrate the enormous pain caused to ordinary citizens by the tragedy then does a very good job easy to get so caught up in meaningless statistics that you neglect the emotional costs of the terrorist attacks this is the first film seen that truly dealt with the suffering of those who weren't even involved whose only anguish was caused through losing those whom they loved shows surprising range in a difficult role one which would have crumbled to pieces had he not been up to the task instantly between cheerfulness anger and depression is a man with whom we can deeply sympathise a hollow soul who thanks to the companionship of an old friend can finally glimpse light at the end of a dark bleak tunnel\n",
            "\n",
            "Original sentiment: positive\n",
            "1/1 [==============================] - 0s 22ms/step\n",
            "Model thinks it's a positive sentiment with the certainty of 99.951% positivity\n"
          ]
        }
      ],
      "source": [
        "test_model()"
      ]
    },
    {
      "cell_type": "code",
      "execution_count": 210,
      "metadata": {
        "colab": {
          "base_uri": "https://localhost:8080/"
        },
        "id": "oITTpI9qxKFc",
        "outputId": "635195ae-25db-449d-ced8-8bf355779d0a"
      },
      "outputs": [
        {
          "name": "stdout",
          "output_type": "stream",
          "text": [
            "Random index: 1473\n",
            "Review: is a bit of a first for me the first time I have ever been disappointed in a film isn't a bad film sets costumes and the odd great but it could have been made by any hollywood director pacing was very odd the last third was just spent waiting for the film to end by myself and the cast was excellent probably the only pleasure in the film back\n",
            "\n",
            "Original sentiment: negative\n",
            "1/1 [==============================] - 0s 20ms/step\n",
            "Model thinks it's a negative sentiment with the certainty of 42.365% positivity\n"
          ]
        }
      ],
      "source": [
        "test_model()"
      ]
    },
    {
      "cell_type": "code",
      "execution_count": 211,
      "metadata": {
        "colab": {
          "base_uri": "https://localhost:8080/"
        },
        "id": "Ie1jVx8ZxKv4",
        "outputId": "1d3904d3-cd68-4349-affd-d7cc124ac60e"
      },
      "outputs": [
        {
          "name": "stdout",
          "output_type": "stream",
          "text": [
            "Random index: 4908\n",
            "Review: people are making fun out of acting abilities I really see why if I remember his other films are acceptable to his reading reviews about I didn't expect anything from this film I barely came through and I read a lot that was even worse I was really surprised about this one my opinion it is one of his very best movies it had have more action sequences and a couple more fighting scenes it would be best I liked the story the directing and the actors was just incredible will have a great in the future few action scenes were very well made was very believable in his unusual role\n",
            "\n",
            "Original sentiment: positive\n",
            "1/1 [==============================] - 0s 27ms/step\n",
            "Model thinks it's a positive sentiment with the certainty of 96.636% positivity\n"
          ]
        }
      ],
      "source": [
        "test_model()"
      ]
    },
    {
      "cell_type": "code",
      "execution_count": 212,
      "metadata": {
        "colab": {
          "base_uri": "https://localhost:8080/"
        },
        "id": "QU-52xAcxLjO",
        "outputId": "3721121d-ccab-4023-edce-e23723c640f5"
      },
      "outputs": [
        {
          "name": "stdout",
          "output_type": "stream",
          "text": [
            "Random index: 2810\n",
            "Review: to start I was only able to stomach about the first 10 minutes before I turned it off in disgust from the actor playing himself the rest were just terrible I can only stretch my suspension of disbelief only so the very opening of the first episode I lost count of how many errors plot holes and horrible costumes there were began with some poor peasant trying to hunt for a deer to feed his family well and good the poor blighter must have been mostly deaf because a handful of soldiers in full armour on horseback were able to sneak up on him to within about 10 as he's running away he goes from having them 10 feet behind him to a shot where you cannot even see them at all immediately followed by them about 20 feet behind him again he runs into some bushes and is immediately manhandled by two of the just mere seconds before were galloping on horseback dozens of feet behind on the soldiers is so painfully obviously cloth which they tried to make look like maille and miserably failed to mention the lead soldier's being about 5 sizes too big for the poor fellow he looks like he is a small child wearing his father's armour manages to fire about 5 perfectly aimed shots all around one soldier's hand in the span of about 2 seconds from what appears to be a recurve bow human alive could make those kinds of shots in that short amount of time with a scoped rifle much less a that they escape the soldiers and stop to help an amazingly well dressed and clean with digging a that all noblemen were willing to do all the time right this sorry excuse for a series ever got a second season is beyond me production costs least for what I must have soared in the dozens of dollars I think a highschool drama class could have put on a better rendition was so bad even that terrible version of was highly suggest you skip this monstrosity and go rent or buy the of series better written acted costumed and shame\n",
            "\n",
            "Original sentiment: negative\n",
            "1/1 [==============================] - 0s 19ms/step\n",
            "Model thinks it's a negative sentiment with the certainty of 0.129% positivity\n"
          ]
        }
      ],
      "source": [
        "test_model()"
      ]
    },
    {
      "cell_type": "code",
      "execution_count": 213,
      "metadata": {
        "colab": {
          "base_uri": "https://localhost:8080/"
        },
        "id": "zyoAic9NxMYJ",
        "outputId": "c2e48f36-7d10-46f6-d0b3-32aea4c65195"
      },
      "outputs": [
        {
          "name": "stdout",
          "output_type": "stream",
          "text": [
            "Random index: 1438\n",
            "Review: the eagerly awaits the launch of series two of series one just finished showing did not group of over forty passengers struggle to cope after their plane into a deserted island pray for rescue as the days turn into weeks and the survivors explore the rainforest that surrounds them they begin to wonder whether they are the series has a hard time keeping up the pace after the explosive pilot episodes which hurls at the group a polar bear a giant beastie and the possibility of others on the island the series manages to pick itself up after a few episodes and is outstanding by the final episode the greatest thing about is the fact that we visit each character's life before the crash in a series of flashbacks gives us more insight and hence more suspense and excitement as the events unfold in the this show is a superb combination of drama suspense and the supernatural it is quite simply 1 the cliffhanger that was the end of 1 of 2 begins with our protagonists delving deep into the heart of the phenomenon that is the discover a mysterious man who has a job to do and struggle to cope with the aftermath of what happened on the the series progresses the viewers will be unable to bring themselves to turn off their television set as every episode of the series contains more twists than a chocolate bar one of which introduces a whole host of new characters every mystery solved with five brand new ones seem to come out of the woodworks the 974th plot twist of the series it finally dawns on the viewer that it doesn't actually matter whether the survivors make it off the island the stunning series finale answers just over half of those questions despite its ending\n",
            "\n",
            "Original sentiment: positive\n",
            "1/1 [==============================] - 0s 20ms/step\n",
            "Model thinks it's a positive sentiment with the certainty of 99.953% positivity\n"
          ]
        }
      ],
      "source": [
        "test_model()"
      ]
    },
    {
      "cell_type": "code",
      "execution_count": 214,
      "metadata": {
        "colab": {
          "base_uri": "https://localhost:8080/"
        },
        "id": "Rk6HdTOPxNIV",
        "outputId": "29455245-5fdc-4292-9ae5-9c670c19c235"
      },
      "outputs": [
        {
          "name": "stdout",
          "output_type": "stream",
          "text": [
            "Random index: 5383\n",
            "Review: got to say a big fan of these on the even the ones that most people seem to hate are often held in relatively high esteem by me but one of these sorts of films that I didn't like much was and unfortunately it would seem that trains and on the don't mix as is another lacklustre that this sort of film really needs is a resoundingly nasty lead character and while offers up three potential candidates not one of them steps up and becomes this villain leaving the lacking in the most important area actually gets off to a good start as three young men on a passenger train begin slightly irritating the guests on board leads the audience to believe that there is more in store but unfortunately it never really gets going once the scene has been set there the trio end up 'taking over' the train and use their new found power to terrorise the guests and rape the has to be said that there's a fair amount of sleaze in this film which will be pleasing to many viewers but there's hardly any blood seemed to think that he could get away with replacing the blood with sex scenes and he may have gotten away with it too if he could film a brutal sex scene idea that these men have taken the train by force goes out of the window once it gets to the sex as the people that you would expect to be powerful and forceful seem all too keen to show their women a good time and despite one very tame 'sandwich' sequence none of the sex is particularly interesting a lot of the film is taken up by these sex scenes this becomes a massive problem like this are often lacking in style suspense and credibility but you know you're watching a bad one when it's boring you you might expect none of the acting is up to anything and the central three in particular stand out for being rubbish direction is lacking in style and there's very little tension or suspense making it difficult to care what is going to happen this is a pretty crappy example of an exploitation film and I can't recommend it\n",
            "\n",
            "Original sentiment: negative\n",
            "1/1 [==============================] - 0s 44ms/step\n",
            "Model thinks it's a negative sentiment with the certainty of 0.532% positivity\n"
          ]
        }
      ],
      "source": [
        "test_model()"
      ]
    },
    {
      "cell_type": "code",
      "execution_count": 215,
      "metadata": {
        "colab": {
          "base_uri": "https://localhost:8080/"
        },
        "id": "xQTCw2KWxNxo",
        "outputId": "34bfd34e-04a3-4fcd-f246-66670280c870"
      },
      "outputs": [
        {
          "name": "stdout",
          "output_type": "stream",
          "text": [
            "Random index: 1964\n",
            "Review: is a movie and nothing more for that it is great fun to watch it skims over political issues so what I am sure she wasn't trying to make and here not try to make it anything else but what it fare very enjoyable at we remember what 1984 was like become very sophisticated according to the media as far as what we watch or not I tend to differ on this point knew this was and she went ahead and did her lightest fare and the remake of knows what she is plays every role for the camp that you can get out of it just knows herself really well and she knows what she can do really has always made me laugh cheerfully and innocently I loved her in and every thing she's ever been in has never tried to be anything else but who she that's that bubbling giggly girl next door who happens to be very pretty and has a smile and a laugh that will always endear me and remind me that life is pretty short and you've just got to lighten up because before you know are old wrinkled and suffering from one of life's inevitable ailments it even comes that appreciate for what she is a lovable comic actress\n",
            "\n",
            "Original sentiment: positive\n",
            "1/1 [==============================] - 0s 27ms/step\n",
            "Model thinks it's a positive sentiment with the certainty of 98.208% positivity\n"
          ]
        }
      ],
      "source": [
        "test_model()"
      ]
    },
    {
      "cell_type": "code",
      "execution_count": 216,
      "metadata": {
        "colab": {
          "base_uri": "https://localhost:8080/"
        },
        "id": "6r07KMbrxPEn",
        "outputId": "8eac1731-e35f-49bd-e0bb-b94bd299d20d"
      },
      "outputs": [
        {
          "name": "stdout",
          "output_type": "stream",
          "text": [
            "Random index: 5180\n",
            "Review: channel surfing we found this movie with its promising synopsis were dismayed at the flat acting and formulaic storyline found amusing the exploding car scenes unbelievable shoot outs and sets that crash down with the weight of and cardboard was even more hilarious was seeing all the recycled scenes from where the church front falls on the school bus the store fronts break away from the main street the overpass collapsing and the red truck speeding down the alley way as the bricks fall down on it was a good laugh although unintended and leaves the viewer wondering if it was not originally intended as a low budget spoof of disaster films\n",
            "\n",
            "Original sentiment: negative\n",
            "1/1 [==============================] - 0s 22ms/step\n",
            "Model thinks it's a negative sentiment with the certainty of 3.744% positivity\n"
          ]
        }
      ],
      "source": [
        "test_model()"
      ]
    },
    {
      "cell_type": "code",
      "execution_count": 217,
      "metadata": {
        "colab": {
          "base_uri": "https://localhost:8080/"
        },
        "id": "i4uxuORrxP0u",
        "outputId": "0cf3dfbe-29f6-4904-efd9-0eaf39c80ccc"
      },
      "outputs": [
        {
          "name": "stdout",
          "output_type": "stream",
          "text": [
            "Random index: 3447\n",
            "Review: I have to admit right off the top not a big fan of films these days of them are sentimental crap this one like the previous film from is a lot of fun two lead characters were perhaps a bit too compared to the two leads in but otherwise this film is but the rest of the film more than made up for it animation looked great the humor though broad was consistently especially liked line I hadn't promised on her deathbed that I wouldn't kill you I would kill and the actors doing the voices except the two leads were all doing an animated movie what a like everyone else I loved the outtakes I hope the video has the new ones\n",
            "\n",
            "Original sentiment: positive\n",
            "1/1 [==============================] - 0s 21ms/step\n",
            "Model thinks it's a positive sentiment with the certainty of 77.558% positivity\n"
          ]
        }
      ],
      "source": [
        "test_model()"
      ]
    },
    {
      "cell_type": "code",
      "execution_count": 218,
      "metadata": {
        "colab": {
          "base_uri": "https://localhost:8080/"
        },
        "id": "GuaUsTQOxQjX",
        "outputId": "5326254c-f7c6-43d4-bc76-31798bd59ef2"
      },
      "outputs": [
        {
          "name": "stdout",
          "output_type": "stream",
          "text": [
            "Random index: 7972\n",
            "Review: I saw recently saw this at the 2007 film and I can't believe that this is official submission to the 79th to be considered for best foreign film last year also had official submission for best foreign film with I wasn't personally a fan of but at least it had some production value to it could have been shot as a high school film project a short film it may have worked but as a feature film it is as lost as it's characters is a story about five twenty something friends who live in a small town and have no goals or hopes or ambitions for the future and like to live in the past of their long gone childhood isn't like some remote northern village a popular summer resort with a population of city and townships of almost and lies between two major southern coastal cities of and characters are likable enough guys but if they were high school age kids with a bleak or confused attitude about what they plan to do with their lives I would undoubtedly care about them more are however long past the point where they should be making plans to deal with adulthood they want to stay in forever than certainly there must be some jobs in the tourist or fishing industry instead of just riding bicycles drinking smoking pot and occasionally painting a house if they hung around with a girl or two in their circle of friends of which girls are absent from this film altogether which doesn't make sense makes his directorial debut and co wrote the film along with the cinematographer of which I use the term loosely the acting isn't too bad I would give this a out of 10 but despite it's submission for consideration for the I would not recommend it\n",
            "\n",
            "Original sentiment: negative\n",
            "1/1 [==============================] - 0s 27ms/step\n",
            "Model thinks it's a negative sentiment with the certainty of 7.350% positivity\n"
          ]
        }
      ],
      "source": [
        "test_model()"
      ]
    },
    {
      "cell_type": "code",
      "execution_count": 219,
      "metadata": {
        "colab": {
          "base_uri": "https://localhost:8080/"
        },
        "id": "6cq-4VG5xRWP",
        "outputId": "2c57a4b0-6ec7-47e5-d1f7-434292f7ace5"
      },
      "outputs": [
        {
          "name": "stdout",
          "output_type": "stream",
          "text": [
            "Random index: 9332\n",
            "Review: is a typically entertaining movie of the early 1930s you have in the lead these films are even better just fun stuff to watch when films are it's a negative but not so with films from with the slang and the attitudes dress hairstyles they are dated but that's a big part of the fun films have an edge to them that almost always are fun to also have a corniness which is appealing and fascinating see people like the juvenile delinquents pictured in this film and their goofy parents that you just don't see in any period but this one on this movie the kids go before the judge and you sit and just laugh at these crazy characters that appear in court on behalf of their kids one after the other we get the stereotypical emotional father the dad the mom and a few other moms who all in dramatic form plead theirs is good though things are predictable in some cases you don't mind because everyone in here is so much fun to also teaches you that kids were punks 75 years ago too stealing robbing mugging lying hey that's the human condition movie debunks the theory that were nicer back in the old people have always been rotten or good degree was aided by their environment parents financial situation and other things we get a bunch of kids who wind up in ridiculous and storyline has kids acting immediately like angels once they run the show at the reform school not punished in the slightest for causing a man to fall to his death and setting the institution on fire explanation he was a meanie and deserved it much for real justice and and shooting a guy bit never having to even be questioned by police because he's the good guy the subtle dig in which the only guy seen praying is the evil no coincidence no accident sort of things has been going on ever since the was canned in the late '60s and was seen as you see hear in the early by the way is outstanding in his role of I especially his voice was very effective and could picture him playing one of those roles as an institution boss in a film adaptation played his normal role the tough guy who gets the pretty girl played by also was effective as the leader of the boys the looks on face alone made his character believable thing he was the real star of the film but still go with rest of the reform school kids weren't too believable and they were really ethnic stereotypes but they were all fun to thought the most interesting part of the film was the first 20 minutes when we saw how bad these kids were and witnessed the good and bad and stereotypical parents in the court after the kids were arrested scenes are pure 1930s stuff always showed the kids to be bad news at the beginning of the film but by the time the story was over they all looked acting more like and hardly rough very but it works a hokey but very entertaining movie typical of films and those of the early '30s all of them rate at least eight stars for their entertainment value\n",
            "\n",
            "Original sentiment: positive\n",
            "1/1 [==============================] - 0s 19ms/step\n",
            "Model thinks it's a positive sentiment with the certainty of 99.762% positivity\n"
          ]
        }
      ],
      "source": [
        "test_model()"
      ]
    },
    {
      "cell_type": "code",
      "execution_count": 220,
      "metadata": {
        "colab": {
          "base_uri": "https://localhost:8080/"
        },
        "id": "gME4gf5UxYg9",
        "outputId": "228d0a97-1503-476a-9fd1-c517e219dda8"
      },
      "outputs": [
        {
          "name": "stdout",
          "output_type": "stream",
          "text": [
            "Random index: 5214\n",
            "Review: I watched of this movie and wondered why it got such horrible reviews here was fairly easy to watch had good casting role of the sociopath serial killer was very believable he was both charasmatic and chilling rest of the main characters weren't so bad is your typical movie married couple cannot conceive so they go to a fertility clinic for help sociopathic donor fixates on the recipients and in typical stalker form intrudes into their I said most of the movie was fairly we see grow more and more obsessed in raising his baby and creating the perfect family with the mother course things don't work out for him the way he planned a bad plot the last 15 minutes were just horrible I am pretty tolerant with movies at but I was just amazed at how bad the ending was written I actually scoffed in all not the worst movie seen but I wouldn't be able to sit through it again I skipped the only redeaming quality here was role one of the best serial killers looking around at the other channels before watching if nothing better is on give it a\n",
            "\n",
            "Original sentiment: negative\n",
            "1/1 [==============================] - 0s 21ms/step\n",
            "Model thinks it's a negative sentiment with the certainty of 4.004% positivity\n"
          ]
        }
      ],
      "source": [
        "test_model()"
      ]
    },
    {
      "cell_type": "code",
      "execution_count": 221,
      "metadata": {
        "colab": {
          "base_uri": "https://localhost:8080/"
        },
        "id": "IQhI5GIIxZs4",
        "outputId": "53d0548c-cba1-4c35-a0b6-5485be674377"
      },
      "outputs": [
        {
          "name": "stdout",
          "output_type": "stream",
          "text": [
            "Random index: 8190\n",
            "Review: ever ever ever do anything right movie was meant to be seen on in a letterbox format doesn't even believe in pan and scan we see whole scenes where a shoulder on the left side of the screen talks to a shoulder on the right side course not that you are missing much movie is incredibly bad very hard to enjoy a film where characters are screaming at the top of their lungs during of the movie for no reason\n",
            "\n",
            "Original sentiment: negative\n",
            "1/1 [==============================] - 0s 20ms/step\n",
            "Model thinks it's a negative sentiment with the certainty of 17.375% positivity\n"
          ]
        }
      ],
      "source": [
        "test_model()"
      ]
    }
  ],
  "metadata": {
    "accelerator": "GPU",
    "colab": {
      "gpuType": "T4",
      "provenance": [],
      "toc_visible": true
    },
    "kernelspec": {
      "display_name": "Python 3",
      "name": "python3"
    },
    "language_info": {
      "name": "python"
    }
  },
  "nbformat": 4,
  "nbformat_minor": 0
}
